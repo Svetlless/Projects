{
 "cells": [
  {
   "cell_type": "markdown",
   "id": "1b88af96",
   "metadata": {},
   "source": [
    "Код для поиска дубликатов в данных. Данные организованы следующим образом: первая колонка - уникальные ID, остальные - собранные данные. Если вся строка, кроме ID, дублируется, значит, возникли проблемы при записи/вводе результатов исследования. Поэтому необходимо их идентифицировать и проверить в исходных материалах. Необходимо написать код, который при поиске дубликатов не будет учитывать ID, поскольку они всегда уникальны"
   ]
  },
  {
   "cell_type": "code",
   "execution_count": 12,
   "id": "6bc5b933-4f3d-448f-9030-7be23041a894",
   "metadata": {},
   "outputs": [],
   "source": [
    "import pandas as pd"
   ]
  },
  {
   "cell_type": "code",
   "execution_count": null,
   "id": "2aa1b088",
   "metadata": {},
   "outputs": [],
   "source": [
    "#Загружаем файл - указаны параметры, необходимые для корректного чтения исходных данных\n",
    "test = pd.read_csv('Data.csv',sep = ';',encoding='latin-1',skip_blank_lines = True)"
   ]
  },
  {
   "cell_type": "code",
   "execution_count": null,
   "id": "c4930ce8-323a-4829-9c49-5cf67cf6731d",
   "metadata": {},
   "outputs": [],
   "source": [
    "#Переводим ID в индекс, чтобы было проще идентифицировать дубликаты\n",
    "test = test.set_index('ID')\n",
    "#В файле есть строки, в которых кроме ID нет данных - теперь можем их удалить\n",
    "test.dropna(axis = 0, how = 'all', inplace = True)\n",
    "#Ищем дубликаты, выводятся обе строки, по индексу можем найти исходники\n",
    "test.loc[test.duplicated(keep = False)]"
   ]
  }
 ],
 "metadata": {
  "kernelspec": {
   "display_name": "Python 3 (ipykernel)",
   "language": "python",
   "name": "python3"
  },
  "language_info": {
   "codemirror_mode": {
    "name": "ipython",
    "version": 3
   },
   "file_extension": ".py",
   "mimetype": "text/x-python",
   "name": "python",
   "nbconvert_exporter": "python",
   "pygments_lexer": "ipython3",
   "version": "3.11.5"
  }
 },
 "nbformat": 4,
 "nbformat_minor": 5
}
