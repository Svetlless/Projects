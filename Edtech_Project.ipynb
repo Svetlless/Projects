{
 "cells": [
  {
   "cell_type": "markdown",
   "metadata": {},
   "source": [
    "## Проект e-learning"
   ]
  },
  {
   "cell_type": "code",
   "execution_count": 66,
   "metadata": {},
   "outputs": [],
   "source": [
    "import pandas as pd\n",
    "import numpy as np\n",
    "import requests\n",
    "import seaborn as sns\n",
    "import scipy.stats as ss\n",
    "from urllib.parse import urlencode \n",
    "import matplotlib.pyplot as plt"
   ]
  },
  {
   "cell_type": "code",
   "execution_count": 2,
   "metadata": {},
   "outputs": [],
   "source": [
    "# Загрузка файла assessments.csv\n",
    "base_url = 'https://cloud-api.yandex.net/v1/disk/public/resources/download?' \n",
    "public_key = 'https://disk.yandex.ru/d/iSVP1sZ7AdW7TQ' \n",
    "# получаем url \n",
    "final_url = base_url + urlencode(dict(public_key=public_key)) \n",
    "response = requests.get(final_url) \n",
    "download_url = response.json()['href'] \n",
    "# загружаем файл в df \n",
    "download_response = requests.get(download_url) \n",
    "assessments = pd.read_csv(download_url, sep=',') "
   ]
  },
  {
   "cell_type": "markdown",
   "metadata": {},
   "source": [
    "**Assessments**\n",
    "Cодержит информацию об оценках в тесте. Обычно каждый предмет в семестре включает ряд тестов с оценками, за которыми следует заключительный экзаменационный тест (экзамен).\n",
    "\n",
    "*code_module* — идентификационный код предмета.\n",
    "\n",
    "*code_presentation* — семестр (Идентификационный код).\n",
    "\n",
    "*id_assessment* — тест (Идентификационный номер ассессмента).\n",
    "\n",
    "*assessment_type* — тип теста. Существуют три типа оценивания: оценка преподавателя (TMA), компьютерная оценка (СМА), экзамен по курсу (Exam).\n",
    "\n",
    "*date* — информация об окончательной дате сдачи теста. Рассчитывается как количество дней с момента начала семестра. Дата начала семестра имеет номер 0 (ноль).\n",
    "\n",
    "*weight* — вес теста в % в оценке за курс. Обычно экзамены рассматриваются отдельно и имеют вес 100%; сумма всех остальных оценок составляет 100%."
   ]
  },
  {
   "cell_type": "code",
   "execution_count": 3,
   "metadata": {},
   "outputs": [],
   "source": [
    "# Загрузка файла courses.csv\n",
    "base_url = 'https://cloud-api.yandex.net/v1/disk/public/resources/download?' \n",
    "public_key = 'https://disk.yandex.ru/d/jmJxR8yhwCXlaw' \n",
    "# получаем url \n",
    "final_url = base_url + urlencode(dict(public_key=public_key)) \n",
    "response = requests.get(final_url) \n",
    "download_url = response.json()['href'] \n",
    "# загружаем файл в df \n",
    "download_response = requests.get(download_url) \n",
    "courses = pd.read_csv(download_url, sep=',') "
   ]
  },
  {
   "cell_type": "markdown",
   "metadata": {},
   "source": [
    "**Courses**\n",
    "Список предметов по семестрам.\n",
    "\n",
    "*code_module* — предмет (идентификационный код).\n",
    "\n",
    "*code_presentation* — семестр (идентификационный код).\n",
    "\n",
    "*module_presentation_length* — продолжительность семестра в днях."
   ]
  },
  {
   "cell_type": "code",
   "execution_count": 4,
   "metadata": {},
   "outputs": [],
   "source": [
    "# Загрузка файла studentAssessment.csv\n",
    "base_url = 'https://cloud-api.yandex.net/v1/disk/public/resources/download?' \n",
    "public_key = 'https://disk.yandex.ru/d/DYd4M5b_8RETsA' \n",
    "# получаем url \n",
    "final_url = base_url + urlencode(dict(public_key=public_key)) \n",
    "response = requests.get(final_url) \n",
    "download_url = response.json()['href'] \n",
    "# загружаем файл в df \n",
    "download_response = requests.get(download_url) \n",
    "st_assessment = pd.read_csv(download_url, sep=',') "
   ]
  },
  {
   "cell_type": "markdown",
   "metadata": {},
   "source": [
    "**st_assessment**\n",
    "Результаты тестов студентов. Если учащийся не отправляет работу на оценку, результат не записывается в таблицу.\n",
    "\n",
    "*id_assessment* — тест (идентификационный номер).\n",
    "\n",
    "*id_student* — идентификационный номер студента.\n",
    "\n",
    "*date_submitted* — дата сдачи теста студентом, измеряемая как количество дней с начала семестра.\n",
    "\n",
    "*is_banked* — факт перезачета теста с прошлого семестра (иногда курсы перезачитывают студентам, вернувшимся из академического отпуска).\n",
    "\n",
    "*score* — оценка учащегося в этом тесте. Диапазон составляет от 0 до 100. Оценка ниже 40 неудачная/неуспешная сдача теста."
   ]
  },
  {
   "cell_type": "code",
   "execution_count": 5,
   "metadata": {},
   "outputs": [],
   "source": [
    "# Загрузка файла studentRegistration.csv\n",
    "base_url = 'https://cloud-api.yandex.net/v1/disk/public/resources/download?' \n",
    "public_key = 'https://disk.yandex.ru/d/lqHnH8NOZ458iw' \n",
    "# получаем url \n",
    "final_url = base_url + urlencode(dict(public_key=public_key)) \n",
    "response = requests.get(final_url) \n",
    "download_url = response.json()['href'] \n",
    "# загружаем файл в df \n",
    "download_response = requests.get(download_url) \n",
    "registration = pd.read_csv(download_url, sep=',') "
   ]
  },
  {
   "cell_type": "code",
   "execution_count": 6,
   "metadata": {},
   "outputs": [
    {
     "name": "stdout",
     "output_type": "stream",
     "text": [
      "<class 'pandas.core.frame.DataFrame'>\n",
      "RangeIndex: 32593 entries, 0 to 32592\n",
      "Data columns (total 5 columns):\n",
      " #   Column               Non-Null Count  Dtype  \n",
      "---  ------               --------------  -----  \n",
      " 0   code_module          32593 non-null  object \n",
      " 1   code_presentation    32593 non-null  object \n",
      " 2   id_student           32593 non-null  int64  \n",
      " 3   date_registration    32548 non-null  float64\n",
      " 4   date_unregistration  10072 non-null  float64\n",
      "dtypes: float64(2), int64(1), object(2)\n",
      "memory usage: 1.2+ MB\n"
     ]
    }
   ],
   "source": [
    "registration.info()"
   ]
  },
  {
   "cell_type": "markdown",
   "metadata": {},
   "source": [
    "**registration**\n",
    "Информация о времени, когда студент зарегистрировался для прохождения курса в семестре.\n",
    "\n",
    "*code_module* — предмет (идентификационный код).\n",
    "\n",
    "*code_presentation* — семестр (идентификационный код)\n",
    "\n",
    "*id_student* — идентификационный номер студента.\n",
    "\n",
    "*date_registration* — дата регистрации студента. Это количество дней, измеренное от начала семестра (например, отрицательное значение -30 означает, что студент зарегистрировался на прохождение курса за 30 дней до его начала).\n",
    "\n",
    "*date_unregistration* — дата отмены регистрации студента с предмета. У студентов, окончивших курс, это поле остается пустым."
   ]
  },
  {
   "cell_type": "code",
   "execution_count": 7,
   "metadata": {},
   "outputs": [],
   "source": [
    "#соединим таблицы courses и assessments. Колонки - code_module, code_presentation\n",
    "courses_and_assess= pd.merge(assessments, courses, how='left', on=['code_module','code_presentation'])"
   ]
  },
  {
   "cell_type": "code",
   "execution_count": 8,
   "metadata": {},
   "outputs": [
    {
     "name": "stdout",
     "output_type": "stream",
     "text": [
      "<class 'pandas.core.frame.DataFrame'>\n",
      "Int64Index: 206 entries, 0 to 205\n",
      "Data columns (total 7 columns):\n",
      " #   Column                      Non-Null Count  Dtype  \n",
      "---  ------                      --------------  -----  \n",
      " 0   code_module                 206 non-null    object \n",
      " 1   code_presentation           206 non-null    object \n",
      " 2   id_assessment               206 non-null    int64  \n",
      " 3   assessment_type             206 non-null    object \n",
      " 4   date                        195 non-null    float64\n",
      " 5   weight                      206 non-null    float64\n",
      " 6   module_presentation_length  206 non-null    int64  \n",
      "dtypes: float64(2), int64(2), object(3)\n",
      "memory usage: 12.9+ KB\n"
     ]
    }
   ],
   "source": [
    "courses_and_assess.info()"
   ]
  },
  {
   "cell_type": "code",
   "execution_count": 9,
   "metadata": {},
   "outputs": [],
   "source": [
    "#Соединим таблицы courses_and_assess и st_assessment по id_assessment  \n",
    "stud_courses_info= pd.merge(st_assessment, courses_and_assess, how='left', on=['id_assessment'])"
   ]
  },
  {
   "cell_type": "code",
   "execution_count": 10,
   "metadata": {},
   "outputs": [
    {
     "name": "stdout",
     "output_type": "stream",
     "text": [
      "<class 'pandas.core.frame.DataFrame'>\n",
      "Int64Index: 173912 entries, 0 to 173911\n",
      "Data columns (total 11 columns):\n",
      " #   Column                      Non-Null Count   Dtype  \n",
      "---  ------                      --------------   -----  \n",
      " 0   id_assessment               173912 non-null  int64  \n",
      " 1   id_student                  173912 non-null  int64  \n",
      " 2   date_submitted              173912 non-null  int64  \n",
      " 3   is_banked                   173912 non-null  int64  \n",
      " 4   score                       173739 non-null  float64\n",
      " 5   code_module                 173912 non-null  object \n",
      " 6   code_presentation           173912 non-null  object \n",
      " 7   assessment_type             173912 non-null  object \n",
      " 8   date                        171047 non-null  float64\n",
      " 9   weight                      173912 non-null  float64\n",
      " 10  module_presentation_length  173912 non-null  int64  \n",
      "dtypes: float64(3), int64(5), object(3)\n",
      "memory usage: 15.9+ MB\n"
     ]
    }
   ],
   "source": [
    "stud_courses_info.info()"
   ]
  },
  {
   "cell_type": "code",
   "execution_count": 11,
   "metadata": {},
   "outputs": [
    {
     "data": {
      "text/html": [
       "<div>\n",
       "<style scoped>\n",
       "    .dataframe tbody tr th:only-of-type {\n",
       "        vertical-align: middle;\n",
       "    }\n",
       "\n",
       "    .dataframe tbody tr th {\n",
       "        vertical-align: top;\n",
       "    }\n",
       "\n",
       "    .dataframe thead th {\n",
       "        text-align: right;\n",
       "    }\n",
       "</style>\n",
       "<table border=\"1\" class=\"dataframe\">\n",
       "  <thead>\n",
       "    <tr style=\"text-align: right;\">\n",
       "      <th></th>\n",
       "      <th>id_assessment</th>\n",
       "      <th>id_student</th>\n",
       "      <th>date_submitted</th>\n",
       "      <th>is_banked</th>\n",
       "      <th>score</th>\n",
       "      <th>code_module</th>\n",
       "      <th>code_presentation</th>\n",
       "      <th>assessment_type</th>\n",
       "      <th>date</th>\n",
       "      <th>weight</th>\n",
       "      <th>module_presentation_length</th>\n",
       "    </tr>\n",
       "  </thead>\n",
       "  <tbody>\n",
       "  </tbody>\n",
       "</table>\n",
       "</div>"
      ],
      "text/plain": [
       "Empty DataFrame\n",
       "Columns: [id_assessment, id_student, date_submitted, is_banked, score, code_module, code_presentation, assessment_type, date, weight, module_presentation_length]\n",
       "Index: []"
      ]
     },
     "execution_count": 11,
     "metadata": {},
     "output_type": "execute_result"
    }
   ],
   "source": [
    "#Посмотрим, что делать с пропущенными score. Проверим, есть ли пропущенные для экзаменов, поскольку ниже будем работать с ними\n",
    "stud_courses_info[(stud_courses_info['assessment_type'] == 'Exam') & (stud_courses_info['score'].isnull())]\n",
    "#Пропущенных score для экзаменов нет, поэтому заменять их не будем"
   ]
  },
  {
   "cell_type": "markdown",
   "metadata": {},
   "source": [
    "**Вопрос 1** Сколько студентов успешно сдали только один курс? (Успешная сдача — это зачёт по курсу на экзамене)."
   ]
  },
  {
   "cell_type": "markdown",
   "metadata": {},
   "source": [
    "Для решения задачи проведи предварительное исследование данных и сформулируй, что должно считаться курсом. Обосновать свой выбор ты можешь с помощью фактов сдачи экзаменов, распределения студентов и уникального идентификатора курса."
   ]
  },
  {
   "cell_type": "markdown",
   "metadata": {},
   "source": [
    "*Предположим, что курсом будем считать уникальную комбинацию предмета (code_module) и семестра (code_presentation), для которого итоговый контроль осуществлялся при помощи экзамена (assessment_type == 'Exam'), поскольку указано, что успешная сдача - зачет по курсу на экзамене.\n",
    "Т.к. для каждого уникального предмета могло быть несколько экзаменов в разные семестры (code_presentation), проверим, были ли студенты, которые сдавали экзамен по одному и тому же предмету в разные семестры"
   ]
  },
  {
   "cell_type": "code",
   "execution_count": 12,
   "metadata": {},
   "outputs": [
    {
     "data": {
      "text/html": [
       "<div>\n",
       "<style scoped>\n",
       "    .dataframe tbody tr th:only-of-type {\n",
       "        vertical-align: middle;\n",
       "    }\n",
       "\n",
       "    .dataframe tbody tr th {\n",
       "        vertical-align: top;\n",
       "    }\n",
       "\n",
       "    .dataframe thead th {\n",
       "        text-align: right;\n",
       "    }\n",
       "</style>\n",
       "<table border=\"1\" class=\"dataframe\">\n",
       "  <thead>\n",
       "    <tr style=\"text-align: right;\">\n",
       "      <th></th>\n",
       "      <th>id_student</th>\n",
       "      <th>code_module</th>\n",
       "      <th>code_presentation</th>\n",
       "    </tr>\n",
       "  </thead>\n",
       "  <tbody>\n",
       "    <tr>\n",
       "      <th>1341</th>\n",
       "      <td>540758</td>\n",
       "      <td>DDD</td>\n",
       "      <td>2</td>\n",
       "    </tr>\n",
       "    <tr>\n",
       "      <th>2232</th>\n",
       "      <td>593903</td>\n",
       "      <td>DDD</td>\n",
       "      <td>2</td>\n",
       "    </tr>\n",
       "    <tr>\n",
       "      <th>2479</th>\n",
       "      <td>605118</td>\n",
       "      <td>DDD</td>\n",
       "      <td>2</td>\n",
       "    </tr>\n",
       "  </tbody>\n",
       "</table>\n",
       "</div>"
      ],
      "text/plain": [
       "      id_student code_module  code_presentation\n",
       "1341      540758         DDD                  2\n",
       "2232      593903         DDD                  2\n",
       "2479      605118         DDD                  2"
      ]
     },
     "execution_count": 12,
     "metadata": {},
     "output_type": "execute_result"
    }
   ],
   "source": [
    "#Для проверки этого утверждения проверим, сколько уникальных code_presentation встречается для каждой комбинации студента, сдавшего экзамен более чем на 40 баллов, и code_module\n",
    "unique_comb = stud_courses_info.query(\"score >= 40 & assessment_type == 'Exam'\")\\\n",
    ".groupby(['id_student', 'code_module'], as_index = False)\\\n",
    ".code_presentation.nunique()\n",
    "unique_comb.query(\"code_presentation > 1\")"
   ]
  },
  {
   "cell_type": "markdown",
   "metadata": {},
   "source": [
    "Таких студентов 3. Посмотрим на них внимательнее"
   ]
  },
  {
   "cell_type": "code",
   "execution_count": 13,
   "metadata": {},
   "outputs": [
    {
     "data": {
      "text/html": [
       "<div>\n",
       "<style scoped>\n",
       "    .dataframe tbody tr th:only-of-type {\n",
       "        vertical-align: middle;\n",
       "    }\n",
       "\n",
       "    .dataframe tbody tr th {\n",
       "        vertical-align: top;\n",
       "    }\n",
       "\n",
       "    .dataframe thead th {\n",
       "        text-align: right;\n",
       "    }\n",
       "</style>\n",
       "<table border=\"1\" class=\"dataframe\">\n",
       "  <thead>\n",
       "    <tr style=\"text-align: right;\">\n",
       "      <th></th>\n",
       "      <th>id_assessment</th>\n",
       "      <th>id_student</th>\n",
       "      <th>date_submitted</th>\n",
       "      <th>is_banked</th>\n",
       "      <th>score</th>\n",
       "      <th>code_module</th>\n",
       "      <th>code_presentation</th>\n",
       "      <th>assessment_type</th>\n",
       "      <th>date</th>\n",
       "      <th>weight</th>\n",
       "      <th>module_presentation_length</th>\n",
       "    </tr>\n",
       "  </thead>\n",
       "  <tbody>\n",
       "    <tr>\n",
       "      <th>69983</th>\n",
       "      <td>25340</td>\n",
       "      <td>540758</td>\n",
       "      <td>229</td>\n",
       "      <td>0</td>\n",
       "      <td>40.0</td>\n",
       "      <td>DDD</td>\n",
       "      <td>2013B</td>\n",
       "      <td>Exam</td>\n",
       "      <td>240.0</td>\n",
       "      <td>100.0</td>\n",
       "      <td>240</td>\n",
       "    </tr>\n",
       "    <tr>\n",
       "      <th>87573</th>\n",
       "      <td>25361</td>\n",
       "      <td>540758</td>\n",
       "      <td>234</td>\n",
       "      <td>0</td>\n",
       "      <td>60.0</td>\n",
       "      <td>DDD</td>\n",
       "      <td>2014B</td>\n",
       "      <td>Exam</td>\n",
       "      <td>241.0</td>\n",
       "      <td>100.0</td>\n",
       "      <td>241</td>\n",
       "    </tr>\n",
       "    <tr>\n",
       "      <th>82731</th>\n",
       "      <td>25354</td>\n",
       "      <td>593903</td>\n",
       "      <td>241</td>\n",
       "      <td>0</td>\n",
       "      <td>49.0</td>\n",
       "      <td>DDD</td>\n",
       "      <td>2013J</td>\n",
       "      <td>Exam</td>\n",
       "      <td>261.0</td>\n",
       "      <td>100.0</td>\n",
       "      <td>261</td>\n",
       "    </tr>\n",
       "    <tr>\n",
       "      <th>95711</th>\n",
       "      <td>25368</td>\n",
       "      <td>593903</td>\n",
       "      <td>243</td>\n",
       "      <td>0</td>\n",
       "      <td>44.0</td>\n",
       "      <td>DDD</td>\n",
       "      <td>2014J</td>\n",
       "      <td>Exam</td>\n",
       "      <td>NaN</td>\n",
       "      <td>100.0</td>\n",
       "      <td>262</td>\n",
       "    </tr>\n",
       "    <tr>\n",
       "      <th>82844</th>\n",
       "      <td>25354</td>\n",
       "      <td>605118</td>\n",
       "      <td>237</td>\n",
       "      <td>0</td>\n",
       "      <td>42.0</td>\n",
       "      <td>DDD</td>\n",
       "      <td>2013J</td>\n",
       "      <td>Exam</td>\n",
       "      <td>261.0</td>\n",
       "      <td>100.0</td>\n",
       "      <td>261</td>\n",
       "    </tr>\n",
       "    <tr>\n",
       "      <th>95749</th>\n",
       "      <td>25368</td>\n",
       "      <td>605118</td>\n",
       "      <td>243</td>\n",
       "      <td>0</td>\n",
       "      <td>64.0</td>\n",
       "      <td>DDD</td>\n",
       "      <td>2014J</td>\n",
       "      <td>Exam</td>\n",
       "      <td>NaN</td>\n",
       "      <td>100.0</td>\n",
       "      <td>262</td>\n",
       "    </tr>\n",
       "  </tbody>\n",
       "</table>\n",
       "</div>"
      ],
      "text/plain": [
       "       id_assessment  id_student  date_submitted  is_banked  score  \\\n",
       "69983          25340      540758             229          0   40.0   \n",
       "87573          25361      540758             234          0   60.0   \n",
       "82731          25354      593903             241          0   49.0   \n",
       "95711          25368      593903             243          0   44.0   \n",
       "82844          25354      605118             237          0   42.0   \n",
       "95749          25368      605118             243          0   64.0   \n",
       "\n",
       "      code_module code_presentation assessment_type   date  weight  \\\n",
       "69983         DDD             2013B            Exam  240.0   100.0   \n",
       "87573         DDD             2014B            Exam  241.0   100.0   \n",
       "82731         DDD             2013J            Exam  261.0   100.0   \n",
       "95711         DDD             2014J            Exam    NaN   100.0   \n",
       "82844         DDD             2013J            Exam  261.0   100.0   \n",
       "95749         DDD             2014J            Exam    NaN   100.0   \n",
       "\n",
       "       module_presentation_length  \n",
       "69983                         240  \n",
       "87573                         241  \n",
       "82731                         261  \n",
       "95711                         262  \n",
       "82844                         261  \n",
       "95749                         262  "
      ]
     },
     "execution_count": 13,
     "metadata": {},
     "output_type": "execute_result"
    }
   ],
   "source": [
    "stud_courses_info.query(\"(id_student == 540758 | id_student == 593903 | id_student == 605118) & (assessment_type == 'Exam')\")\\\n",
    ".head(10).sort_values('id_student')"
   ]
  },
  {
   "cell_type": "code",
   "execution_count": 14,
   "metadata": {},
   "outputs": [
    {
     "data": {
      "text/html": [
       "<div>\n",
       "<style scoped>\n",
       "    .dataframe tbody tr th:only-of-type {\n",
       "        vertical-align: middle;\n",
       "    }\n",
       "\n",
       "    .dataframe tbody tr th {\n",
       "        vertical-align: top;\n",
       "    }\n",
       "\n",
       "    .dataframe thead th {\n",
       "        text-align: right;\n",
       "    }\n",
       "</style>\n",
       "<table border=\"1\" class=\"dataframe\">\n",
       "  <thead>\n",
       "    <tr style=\"text-align: right;\">\n",
       "      <th></th>\n",
       "      <th>code_module</th>\n",
       "      <th>code_presentation</th>\n",
       "      <th>id_student</th>\n",
       "      <th>date_registration</th>\n",
       "      <th>date_unregistration</th>\n",
       "    </tr>\n",
       "  </thead>\n",
       "  <tbody>\n",
       "    <tr>\n",
       "      <th>13857</th>\n",
       "      <td>DDD</td>\n",
       "      <td>2013B</td>\n",
       "      <td>540758</td>\n",
       "      <td>-74.0</td>\n",
       "      <td>NaN</td>\n",
       "    </tr>\n",
       "    <tr>\n",
       "      <th>16693</th>\n",
       "      <td>DDD</td>\n",
       "      <td>2014B</td>\n",
       "      <td>540758</td>\n",
       "      <td>-25.0</td>\n",
       "      <td>NaN</td>\n",
       "    </tr>\n",
       "    <tr>\n",
       "      <th>15768</th>\n",
       "      <td>DDD</td>\n",
       "      <td>2013J</td>\n",
       "      <td>593903</td>\n",
       "      <td>-98.0</td>\n",
       "      <td>NaN</td>\n",
       "    </tr>\n",
       "    <tr>\n",
       "      <th>18191</th>\n",
       "      <td>DDD</td>\n",
       "      <td>2014J</td>\n",
       "      <td>593903</td>\n",
       "      <td>13.0</td>\n",
       "      <td>NaN</td>\n",
       "    </tr>\n",
       "    <tr>\n",
       "      <th>15985</th>\n",
       "      <td>DDD</td>\n",
       "      <td>2013J</td>\n",
       "      <td>605118</td>\n",
       "      <td>-31.0</td>\n",
       "      <td>NaN</td>\n",
       "    </tr>\n",
       "    <tr>\n",
       "      <th>18253</th>\n",
       "      <td>DDD</td>\n",
       "      <td>2014J</td>\n",
       "      <td>605118</td>\n",
       "      <td>-3.0</td>\n",
       "      <td>NaN</td>\n",
       "    </tr>\n",
       "  </tbody>\n",
       "</table>\n",
       "</div>"
      ],
      "text/plain": [
       "      code_module code_presentation  id_student  date_registration  \\\n",
       "13857         DDD             2013B      540758              -74.0   \n",
       "16693         DDD             2014B      540758              -25.0   \n",
       "15768         DDD             2013J      593903              -98.0   \n",
       "18191         DDD             2014J      593903               13.0   \n",
       "15985         DDD             2013J      605118              -31.0   \n",
       "18253         DDD             2014J      605118               -3.0   \n",
       "\n",
       "       date_unregistration  \n",
       "13857                  NaN  \n",
       "16693                  NaN  \n",
       "15768                  NaN  \n",
       "18191                  NaN  \n",
       "15985                  NaN  \n",
       "18253                  NaN  "
      ]
     },
     "execution_count": 14,
     "metadata": {},
     "output_type": "execute_result"
    }
   ],
   "source": [
    "registration.query('id_student == 540758 | id_student == 593903 | id_student == 605118').head(50).sort_values('id_student')"
   ]
  },
  {
   "cell_type": "markdown",
   "metadata": {},
   "source": [
    "Видим, что студенты отдельно регистрировались на каждый из семестров, и unregistration не было. Посмотрим внимательнее на курс DDD. Были ли студенты, которые его освоили за один семестр?"
   ]
  },
  {
   "cell_type": "code",
   "execution_count": 15,
   "metadata": {},
   "outputs": [
    {
     "data": {
      "text/html": [
       "<div>\n",
       "<style scoped>\n",
       "    .dataframe tbody tr th:only-of-type {\n",
       "        vertical-align: middle;\n",
       "    }\n",
       "\n",
       "    .dataframe tbody tr th {\n",
       "        vertical-align: top;\n",
       "    }\n",
       "\n",
       "    .dataframe thead th {\n",
       "        text-align: right;\n",
       "    }\n",
       "</style>\n",
       "<table border=\"1\" class=\"dataframe\">\n",
       "  <thead>\n",
       "    <tr style=\"text-align: right;\">\n",
       "      <th></th>\n",
       "      <th>id_student</th>\n",
       "      <th>id_assessment</th>\n",
       "    </tr>\n",
       "  </thead>\n",
       "  <tbody>\n",
       "    <tr>\n",
       "      <th>0</th>\n",
       "      <td>24213</td>\n",
       "      <td>1</td>\n",
       "    </tr>\n",
       "    <tr>\n",
       "      <th>1</th>\n",
       "      <td>28046</td>\n",
       "      <td>1</td>\n",
       "    </tr>\n",
       "    <tr>\n",
       "      <th>2</th>\n",
       "      <td>29411</td>\n",
       "      <td>1</td>\n",
       "    </tr>\n",
       "    <tr>\n",
       "      <th>3</th>\n",
       "      <td>31173</td>\n",
       "      <td>1</td>\n",
       "    </tr>\n",
       "    <tr>\n",
       "      <th>4</th>\n",
       "      <td>33796</td>\n",
       "      <td>1</td>\n",
       "    </tr>\n",
       "    <tr>\n",
       "      <th>...</th>\n",
       "      <td>...</td>\n",
       "      <td>...</td>\n",
       "    </tr>\n",
       "    <tr>\n",
       "      <th>3035</th>\n",
       "      <td>2693243</td>\n",
       "      <td>1</td>\n",
       "    </tr>\n",
       "    <tr>\n",
       "      <th>3036</th>\n",
       "      <td>2694886</td>\n",
       "      <td>1</td>\n",
       "    </tr>\n",
       "    <tr>\n",
       "      <th>3037</th>\n",
       "      <td>2694933</td>\n",
       "      <td>1</td>\n",
       "    </tr>\n",
       "    <tr>\n",
       "      <th>3038</th>\n",
       "      <td>2695608</td>\n",
       "      <td>1</td>\n",
       "    </tr>\n",
       "    <tr>\n",
       "      <th>3039</th>\n",
       "      <td>2698251</td>\n",
       "      <td>1</td>\n",
       "    </tr>\n",
       "  </tbody>\n",
       "</table>\n",
       "<p>3036 rows × 2 columns</p>\n",
       "</div>"
      ],
      "text/plain": [
       "      id_student  id_assessment\n",
       "0          24213              1\n",
       "1          28046              1\n",
       "2          29411              1\n",
       "3          31173              1\n",
       "4          33796              1\n",
       "...          ...            ...\n",
       "3035     2693243              1\n",
       "3036     2694886              1\n",
       "3037     2694933              1\n",
       "3038     2695608              1\n",
       "3039     2698251              1\n",
       "\n",
       "[3036 rows x 2 columns]"
      ]
     },
     "execution_count": 15,
     "metadata": {},
     "output_type": "execute_result"
    }
   ],
   "source": [
    "stud_courses_info.query(\"code_module == 'DDD' & assessment_type == 'Exam'\")\\\n",
    ".groupby('id_student', as_index = False).agg({'id_assessment':'count'}).query('id_assessment== 1')"
   ]
  },
  {
   "cell_type": "markdown",
   "metadata": {},
   "source": [
    "*Таких студентов 3036. Следовательно, сдача курса в 2 семестра не являлась общепринятой. Либо это было пересдачей низкого, но проходного балла, либо же - другой курс. В условиях дефицита информации о процессе обучения, предположим, что  можем считать курсом уникальную комбинацию code_module и code_presentation*"
   ]
  },
  {
   "cell_type": "code",
   "execution_count": 16,
   "metadata": {},
   "outputs": [
    {
     "data": {
      "text/plain": [
       "634878     1\n",
       "647937     1\n",
       "554484     1\n",
       "2087698    1\n",
       "631569     1\n",
       "          ..\n",
       "642443     1\n",
       "560243     1\n",
       "652680     1\n",
       "646071     1\n",
       "573440     1\n",
       "Name: id_student, Length: 3802, dtype: int64"
      ]
     },
     "execution_count": 16,
     "metadata": {},
     "output_type": "execute_result"
    }
   ],
   "source": [
    "#Фильтруем записи с типом оценки \"экзамен\" и баллом 40  выше, чтобы оставить только тех, кто сдал тест\n",
    "exams = stud_courses_info.query(\"score >= 40 & assessment_type == 'Exam'\")\n",
    "#Группируем по id_student и считаем количество уникальных предметов и семестров для каждого студента\n",
    "#Соответственно, студент сдал только один курс в случае, если у него уникальный code_module = 1 и уникальный code_presentation = 1. \n",
    "exams.groupby('id_student', as_index = False).agg({'code_module': 'nunique', 'code_presentation': 'nunique'})\\\n",
    ".query('code_module == 1 & code_presentation == 1').id_student.value_counts()"
   ]
  },
  {
   "cell_type": "markdown",
   "metadata": {},
   "source": [
    "**Ответ на вопрос 1** : Успешно сдали только 1 курс 3802 студента"
   ]
  },
  {
   "cell_type": "markdown",
   "metadata": {},
   "source": [
    "**Вопрос 2** Выяви самый сложный и самый простой экзамен: найди курсы и экзамены в рамках курса, которые обладают самой низкой и самой высокой завершаемостью*.\n",
    "*завершаемость = кол-во успешных экзаменов / кол-во всех попыток сдать экзамен"
   ]
  },
  {
   "cell_type": "code",
   "execution_count": 17,
   "metadata": {},
   "outputs": [],
   "source": [
    "#Отберем только экзамены, сгруппируем по code_module, code_presentation и id_assessment (чтобы выявить экзамен в рамках курса)\n",
    "#Вычислим 2 новые переменные: общее число экзаменов и число сданных экзаменов (40 баллов и выше)\n",
    "exams_stat = stud_courses_info.query(\"assessment_type == 'Exam'\")\\\n",
    ".groupby(['code_module', 'code_presentation', 'id_assessment'], as_index = False)\\\n",
    ".agg(total_exams =('date_submitted','count'), passed_exams = ('score', lambda x: (x >= 40).sum()))\n"
   ]
  },
  {
   "cell_type": "code",
   "execution_count": 18,
   "metadata": {},
   "outputs": [],
   "source": [
    "#Создадим переменную pass_rate\n",
    "exams_stat['pass_rate'] = exams_stat.passed_exams / exams_stat.total_exams"
   ]
  },
  {
   "cell_type": "code",
   "execution_count": 19,
   "metadata": {},
   "outputs": [
    {
     "data": {
      "text/html": [
       "<div>\n",
       "<style scoped>\n",
       "    .dataframe tbody tr th:only-of-type {\n",
       "        vertical-align: middle;\n",
       "    }\n",
       "\n",
       "    .dataframe tbody tr th {\n",
       "        vertical-align: top;\n",
       "    }\n",
       "\n",
       "    .dataframe thead th {\n",
       "        text-align: right;\n",
       "    }\n",
       "</style>\n",
       "<table border=\"1\" class=\"dataframe\">\n",
       "  <thead>\n",
       "    <tr style=\"text-align: right;\">\n",
       "      <th></th>\n",
       "      <th>code_module</th>\n",
       "      <th>code_presentation</th>\n",
       "      <th>id_assessment</th>\n",
       "      <th>total_exams</th>\n",
       "      <th>passed_exams</th>\n",
       "      <th>pass_rate</th>\n",
       "    </tr>\n",
       "  </thead>\n",
       "  <tbody>\n",
       "    <tr>\n",
       "      <th>2</th>\n",
       "      <td>DDD</td>\n",
       "      <td>2013B</td>\n",
       "      <td>25340</td>\n",
       "      <td>602</td>\n",
       "      <td>504.0</td>\n",
       "      <td>0.837209</td>\n",
       "    </tr>\n",
       "    <tr>\n",
       "      <th>1</th>\n",
       "      <td>CCC</td>\n",
       "      <td>2014J</td>\n",
       "      <td>24299</td>\n",
       "      <td>1168</td>\n",
       "      <td>1019.0</td>\n",
       "      <td>0.872432</td>\n",
       "    </tr>\n",
       "    <tr>\n",
       "      <th>5</th>\n",
       "      <td>DDD</td>\n",
       "      <td>2014J</td>\n",
       "      <td>25368</td>\n",
       "      <td>950</td>\n",
       "      <td>842.0</td>\n",
       "      <td>0.886316</td>\n",
       "    </tr>\n",
       "    <tr>\n",
       "      <th>0</th>\n",
       "      <td>CCC</td>\n",
       "      <td>2014B</td>\n",
       "      <td>24290</td>\n",
       "      <td>747</td>\n",
       "      <td>664.0</td>\n",
       "      <td>0.888889</td>\n",
       "    </tr>\n",
       "    <tr>\n",
       "      <th>3</th>\n",
       "      <td>DDD</td>\n",
       "      <td>2013J</td>\n",
       "      <td>25354</td>\n",
       "      <td>968</td>\n",
       "      <td>878.0</td>\n",
       "      <td>0.907025</td>\n",
       "    </tr>\n",
       "    <tr>\n",
       "      <th>4</th>\n",
       "      <td>DDD</td>\n",
       "      <td>2014B</td>\n",
       "      <td>25361</td>\n",
       "      <td>524</td>\n",
       "      <td>485.0</td>\n",
       "      <td>0.925573</td>\n",
       "    </tr>\n",
       "  </tbody>\n",
       "</table>\n",
       "</div>"
      ],
      "text/plain": [
       "  code_module code_presentation  id_assessment  total_exams  passed_exams  \\\n",
       "2         DDD             2013B          25340          602         504.0   \n",
       "1         CCC             2014J          24299         1168        1019.0   \n",
       "5         DDD             2014J          25368          950         842.0   \n",
       "0         CCC             2014B          24290          747         664.0   \n",
       "3         DDD             2013J          25354          968         878.0   \n",
       "4         DDD             2014B          25361          524         485.0   \n",
       "\n",
       "   pass_rate  \n",
       "2   0.837209  \n",
       "1   0.872432  \n",
       "5   0.886316  \n",
       "0   0.888889  \n",
       "3   0.907025  \n",
       "4   0.925573  "
      ]
     },
     "execution_count": 19,
     "metadata": {},
     "output_type": "execute_result"
    }
   ],
   "source": [
    "exams_stat.sort_values('pass_rate', ascending = True)"
   ]
  },
  {
   "cell_type": "markdown",
   "metadata": {},
   "source": [
    "**Ответ на вопрос 2** Курс с самой низкой завершаемостью - DDD в семестре 2013B (экзамен 25340), с высокой - DDD в семестре 2014B (экзамен 25361)"
   ]
  },
  {
   "cell_type": "markdown",
   "metadata": {},
   "source": [
    "**Вопрос 3** По каждому предмету определи средний срок сдачи экзаменов (под сдачей понимаем последнее успешное прохождение экзамена студентом). "
   ]
  },
  {
   "cell_type": "code",
   "execution_count": 20,
   "metadata": {},
   "outputs": [
    {
     "data": {
      "text/plain": [
       "array(['CCC', 'DDD'], dtype=object)"
      ]
     },
     "execution_count": 20,
     "metadata": {},
     "output_type": "execute_result"
    }
   ],
   "source": [
    "#В задании упоминается предмет, а не курс. Будем считать, что речь идет о переменной code_module, поэтому семестр не учитываем\n",
    "#Используем отфильтрованные данные exams (экзамены, сданные на более 40 баллов)\n",
    "#Проверим, какую меру центральной тенденции будем использовать: среднее или медиану. Посмотрим на распределение\n",
    "#Группируем по предмету и студенту, чтобы для каждого студента найти наибольшую date_submitted, согласно условию\n",
    "exams_mean = exams.groupby(['code_module', 'id_student'], as_index = False).agg(last_submission_date=('date_submitted', 'max'))\n",
    "#Удаляем колонку id_student для удобства\n",
    "exams_mean = exams_mean.drop(columns = 'id_student')\n",
    "exams_mean.code_module.unique()"
   ]
  },
  {
   "cell_type": "code",
   "execution_count": 21,
   "metadata": {},
   "outputs": [
    {
     "data": {
      "text/plain": [
       "<matplotlib.axes._subplots.AxesSubplot at 0x7f95b189c748>"
      ]
     },
     "execution_count": 21,
     "metadata": {},
     "output_type": "execute_result"
    },
    {
     "data": {
      "image/png": "[encoded data removed]",
      "text/plain": [
       "<Figure size 432x288 with 1 Axes>"
      ]
     },
     "metadata": {
      "needs_background": "light"
     },
     "output_type": "display_data"
    }
   ],
   "source": [
    "#Посмотрим на распределение для CCC\n",
    "sns.histplot(data = exams_mean.query(\"code_module =='CCC'\").last_submission_date, bins = 50)"
   ]
  },
  {
   "cell_type": "code",
   "execution_count": 22,
   "metadata": {},
   "outputs": [
    {
     "data": {
      "text/plain": [
       "NormaltestResult(statistic=9.683275690036737, pvalue=0.00789411412219717)"
      ]
     },
     "execution_count": 22,
     "metadata": {},
     "output_type": "execute_result"
    }
   ],
   "source": [
    "#По графику видно, что распределение отличается от нормального\n",
    "#Однако, здесь и далее проведем формальную проверку на соответствие нормальному распределению\n",
    "ss.normaltest(exams_mean.query(\"code_module =='CCC'\").last_submission_date)"
   ]
  },
  {
   "cell_type": "code",
   "execution_count": 23,
   "metadata": {},
   "outputs": [
    {
     "data": {
      "text/plain": [
       "<matplotlib.axes._subplots.AxesSubplot at 0x7f95b11e0be0>"
      ]
     },
     "execution_count": 23,
     "metadata": {},
     "output_type": "execute_result"
    },
    {
     "data": {
      "image/png": "[encoded data removed]",
      "text/plain": [
       "<Figure size 432x288 with 1 Axes>"
      ]
     },
     "metadata": {
      "needs_background": "light"
     },
     "output_type": "display_data"
    }
   ],
   "source": [
    "sns.histplot(data = exams_mean.query(\"code_module =='DDD'\").last_submission_date, bins = 50)"
   ]
  },
  {
   "cell_type": "code",
   "execution_count": 24,
   "metadata": {},
   "outputs": [
    {
     "data": {
      "text/plain": [
       "NormaltestResult(statistic=46.66942887890582, pvalue=7.342809855565892e-11)"
      ]
     },
     "execution_count": 24,
     "metadata": {},
     "output_type": "execute_result"
    }
   ],
   "source": [
    "ss.normaltest(exams_mean.query(\"code_module =='DDD'\").last_submission_date)"
   ]
  },
  {
   "cell_type": "code",
   "execution_count": 25,
   "metadata": {},
   "outputs": [
    {
     "data": {
      "text/html": [
       "<div>\n",
       "<style scoped>\n",
       "    .dataframe tbody tr th:only-of-type {\n",
       "        vertical-align: middle;\n",
       "    }\n",
       "\n",
       "    .dataframe tbody tr th {\n",
       "        vertical-align: top;\n",
       "    }\n",
       "\n",
       "    .dataframe thead th {\n",
       "        text-align: right;\n",
       "    }\n",
       "</style>\n",
       "<table border=\"1\" class=\"dataframe\">\n",
       "  <thead>\n",
       "    <tr style=\"text-align: right;\">\n",
       "      <th></th>\n",
       "      <th>code_module</th>\n",
       "      <th>median_days</th>\n",
       "    </tr>\n",
       "  </thead>\n",
       "  <tbody>\n",
       "    <tr>\n",
       "      <th>0</th>\n",
       "      <td>CCC</td>\n",
       "      <td>244</td>\n",
       "    </tr>\n",
       "    <tr>\n",
       "      <th>1</th>\n",
       "      <td>DDD</td>\n",
       "      <td>237</td>\n",
       "    </tr>\n",
       "  </tbody>\n",
       "</table>\n",
       "</div>"
      ],
      "text/plain": [
       "  code_module  median_days\n",
       "0         CCC          244\n",
       "1         DDD          237"
      ]
     },
     "execution_count": 25,
     "metadata": {},
     "output_type": "execute_result"
    }
   ],
   "source": [
    "#Распределение отличается от нормального, что ожидаемо для такого типа данных (обычно дата сдачи экзамена регламентирована)\n",
    "#Группируем по code_module, считаем медиану, а не mean и sd\n",
    "\n",
    "median_time = exams_mean.groupby('code_module', as_index=False)\\\n",
    ".agg(median_days=('last_submission_date', 'median'))\n",
    "median_time ['median_days'] =  median_time.median_days.round(2)\n",
    "median_time"
   ]
  },
  {
   "cell_type": "markdown",
   "metadata": {},
   "source": [
    "**Ответ на вопрос 3** Медиана сдачи экзамена по предмету CCC 244 дня, по предмету DDD 237 дней."
   ]
  },
  {
   "cell_type": "markdown",
   "metadata": {},
   "source": [
    "**Вопрос 4** Выяви самые популярные предметы (ТОП-3) по количеству регистраций на них. А также предметы с самым большим оттоком (ТОП-3)"
   ]
  },
  {
   "cell_type": "code",
   "execution_count": 26,
   "metadata": {},
   "outputs": [
    {
     "data": {
      "text/html": [
       "<div>\n",
       "<style scoped>\n",
       "    .dataframe tbody tr th:only-of-type {\n",
       "        vertical-align: middle;\n",
       "    }\n",
       "\n",
       "    .dataframe tbody tr th {\n",
       "        vertical-align: top;\n",
       "    }\n",
       "\n",
       "    .dataframe thead th {\n",
       "        text-align: right;\n",
       "    }\n",
       "</style>\n",
       "<table border=\"1\" class=\"dataframe\">\n",
       "  <thead>\n",
       "    <tr style=\"text-align: right;\">\n",
       "      <th></th>\n",
       "      <th>code_module</th>\n",
       "      <th>registrations</th>\n",
       "      <th>unregistrations</th>\n",
       "    </tr>\n",
       "  </thead>\n",
       "  <tbody>\n",
       "    <tr>\n",
       "      <th>1</th>\n",
       "      <td>BBB</td>\n",
       "      <td>7900</td>\n",
       "      <td>2377</td>\n",
       "    </tr>\n",
       "    <tr>\n",
       "      <th>5</th>\n",
       "      <td>FFF</td>\n",
       "      <td>7751</td>\n",
       "      <td>2380</td>\n",
       "    </tr>\n",
       "    <tr>\n",
       "      <th>3</th>\n",
       "      <td>DDD</td>\n",
       "      <td>6257</td>\n",
       "      <td>2235</td>\n",
       "    </tr>\n",
       "    <tr>\n",
       "      <th>2</th>\n",
       "      <td>CCC</td>\n",
       "      <td>4426</td>\n",
       "      <td>1947</td>\n",
       "    </tr>\n",
       "    <tr>\n",
       "      <th>4</th>\n",
       "      <td>EEE</td>\n",
       "      <td>2932</td>\n",
       "      <td>718</td>\n",
       "    </tr>\n",
       "    <tr>\n",
       "      <th>6</th>\n",
       "      <td>GGG</td>\n",
       "      <td>2534</td>\n",
       "      <td>289</td>\n",
       "    </tr>\n",
       "    <tr>\n",
       "      <th>0</th>\n",
       "      <td>AAA</td>\n",
       "      <td>748</td>\n",
       "      <td>126</td>\n",
       "    </tr>\n",
       "  </tbody>\n",
       "</table>\n",
       "</div>"
      ],
      "text/plain": [
       "  code_module  registrations  unregistrations\n",
       "1         BBB           7900             2377\n",
       "5         FFF           7751             2380\n",
       "3         DDD           6257             2235\n",
       "2         CCC           4426             1947\n",
       "4         EEE           2932              718\n",
       "6         GGG           2534              289\n",
       "0         AAA            748              126"
      ]
     },
     "execution_count": 26,
     "metadata": {},
     "output_type": "execute_result"
    }
   ],
   "source": [
    "#Воспользуемся базой registration\n",
    "#Поскольку дополнительных условий нет, сгруппируем только по code_module (учитываем предметы, а не курсы)\n",
    "#Одни и те же студенты могли регистрироваться на один предмет повторно в разных семестрах\n",
    "#В условии не указано, что показатель популярности должен рассчитываться на основе уникальных id\n",
    "#Также, полагаем, что одинаковые студенты, регистрирующиеся на предмет в разных семестрах, не искажают популярность\n",
    "registrations_stat = registration.groupby('code_module', as_index = False)\\\n",
    ".agg(registrations = ('date_registration','count'), unregistrations = ('date_unregistration','count')).sort_values('registrations', ascending = False)\n",
    "registrations_stat"
   ]
  },
  {
   "cell_type": "code",
   "execution_count": 27,
   "metadata": {},
   "outputs": [],
   "source": [
    "top_registrations = registrations_stat.sort_values('registrations', ascending=False).head(3)\n",
    "top_unregistrations = registrations_stat.sort_values('unregistrations', ascending=False).head(3)"
   ]
  },
  {
   "cell_type": "code",
   "execution_count": 28,
   "metadata": {},
   "outputs": [],
   "source": [
    "#Поскольку ответ состоит из нескольких показателей, для удобства автоматизируем вывод через f-строку во избежание ошибок переноса информации\n",
    "output = f\"\"\"Топ-3 предметов по регистрациям:\n",
    "{top_registrations[['code_module', 'registrations']].to_string(index=False, header=False, justify='left', line_width=None)}\n",
    "\n",
    "Топ-3 предметов по оттоку:\n",
    "{top_unregistrations[['code_module', 'unregistrations']].to_string(index=False, header=False, justify='left', line_width=None)}\"\"\"\n"
   ]
  },
  {
   "cell_type": "markdown",
   "metadata": {},
   "source": [
    "**Ответ на вопрос 4**"
   ]
  },
  {
   "cell_type": "code",
   "execution_count": 29,
   "metadata": {},
   "outputs": [
    {
     "name": "stdout",
     "output_type": "stream",
     "text": [
      "Топ-3 предметов по регистрациям:\n",
      " BBB  7900\n",
      " FFF  7751\n",
      " DDD  6257\n",
      "\n",
      "Топ-3 предметов по оттоку:\n",
      " FFF  2380\n",
      " BBB  2377\n",
      " DDD  2235\n"
     ]
    }
   ],
   "source": [
    "print(output)"
   ]
  },
  {
   "cell_type": "markdown",
   "metadata": {},
   "source": [
    "**Вопрос 5** Используя pandas, в период с начала 2013 по конец 2014 выяви семестр с самой низкой завершаемостью курсов и самыми долгими средними сроками сдачи курсов. \n",
    "Из шага 2: завершаемость = кол-во успешных экзаменов / кол-во всех попыток сдать экзамен"
   ]
  },
  {
   "cell_type": "code",
   "execution_count": 30,
   "metadata": {},
   "outputs": [
    {
     "data": {
      "text/plain": [
       "array(['2013J', '2014J', '2013B', '2014B'], dtype=object)"
      ]
     },
     "execution_count": 30,
     "metadata": {},
     "output_type": "execute_result"
    }
   ],
   "source": [
    "#Посмотрим, как отобрать нужные даты. Посмотрим на записи о семестрах\n",
    "stud_courses_info.code_presentation.unique()\n",
    "#Вероятно, данные и содержат записи только по нужным датам"
   ]
  },
  {
   "cell_type": "code",
   "execution_count": 31,
   "metadata": {},
   "outputs": [
    {
     "data": {
      "text/html": [
       "<div>\n",
       "<style scoped>\n",
       "    .dataframe tbody tr th:only-of-type {\n",
       "        vertical-align: middle;\n",
       "    }\n",
       "\n",
       "    .dataframe tbody tr th {\n",
       "        vertical-align: top;\n",
       "    }\n",
       "\n",
       "    .dataframe thead th {\n",
       "        text-align: right;\n",
       "    }\n",
       "</style>\n",
       "<table border=\"1\" class=\"dataframe\">\n",
       "  <thead>\n",
       "    <tr style=\"text-align: right;\">\n",
       "      <th></th>\n",
       "      <th>code_presentation</th>\n",
       "      <th>total_exams</th>\n",
       "      <th>passed_exams</th>\n",
       "      <th>pass_rate</th>\n",
       "    </tr>\n",
       "  </thead>\n",
       "  <tbody>\n",
       "    <tr>\n",
       "      <th>0</th>\n",
       "      <td>2013B</td>\n",
       "      <td>602</td>\n",
       "      <td>504.0</td>\n",
       "      <td>0.84</td>\n",
       "    </tr>\n",
       "    <tr>\n",
       "      <th>3</th>\n",
       "      <td>2014J</td>\n",
       "      <td>2118</td>\n",
       "      <td>1861.0</td>\n",
       "      <td>0.88</td>\n",
       "    </tr>\n",
       "    <tr>\n",
       "      <th>2</th>\n",
       "      <td>2014B</td>\n",
       "      <td>1271</td>\n",
       "      <td>1149.0</td>\n",
       "      <td>0.90</td>\n",
       "    </tr>\n",
       "    <tr>\n",
       "      <th>1</th>\n",
       "      <td>2013J</td>\n",
       "      <td>968</td>\n",
       "      <td>878.0</td>\n",
       "      <td>0.91</td>\n",
       "    </tr>\n",
       "  </tbody>\n",
       "</table>\n",
       "</div>"
      ],
      "text/plain": [
       "  code_presentation  total_exams  passed_exams  pass_rate\n",
       "0             2013B          602         504.0       0.84\n",
       "3             2014J         2118        1861.0       0.88\n",
       "2             2014B         1271        1149.0       0.90\n",
       "1             2013J          968         878.0       0.91"
      ]
     },
     "execution_count": 31,
     "metadata": {},
     "output_type": "execute_result"
    }
   ],
   "source": [
    "#Нас интересуют семестры, поэтому по code_module не группируем\n",
    "#Чтобы оценить завершаемость, отберем экзамены\n",
    "semester_stat = stud_courses_info.query(\"assessment_type == 'Exam'\").groupby(['code_presentation'], as_index = False)\\\n",
    ".agg(total_exams =('date_submitted','count'), passed_exams = ('score', lambda x: (x >= 40).sum()))\n",
    "semester_stat['pass_rate'] = semester_stat.passed_exams / semester_stat.total_exams\n",
    "semester_stat['pass_rate']  = semester_stat.pass_rate.round(2)\n",
    "#Найдем семестр с самой низкой завершаемостью\n",
    "semester_stat.sort_values('pass_rate')"
   ]
  },
  {
   "cell_type": "code",
   "execution_count": 32,
   "metadata": {},
   "outputs": [
    {
     "data": {
      "text/plain": [
       "array(['2013B', '2013J', '2014B', '2014J'], dtype=object)"
      ]
     },
     "execution_count": 32,
     "metadata": {},
     "output_type": "execute_result"
    }
   ],
   "source": [
    "#Найдем семестр с самой долгой сдачей курса\n",
    "#Используем отфильтрованные данные exams\n",
    "#группируем по семестру, предмету и студенту, чтобы для каждого студента найти наибольшую date_submitted, согласно условию\n",
    "semester_mean = exams.groupby(['code_presentation', 'code_module', 'id_student'], as_index = False)\\\n",
    ".agg(last_submission_date=('date_submitted', 'max'))\n",
    "#Удаляем колонку id_student для удобства\n",
    "semester_mean = semester_mean.drop(columns = 'id_student')\n",
    "semester_mean.code_presentation.unique()"
   ]
  },
  {
   "cell_type": "code",
   "execution_count": 33,
   "metadata": {},
   "outputs": [
    {
     "data": {
      "text/plain": [
       "<matplotlib.axes._subplots.AxesSubplot at 0x7f95b16fb208>"
      ]
     },
     "execution_count": 33,
     "metadata": {},
     "output_type": "execute_result"
    },
    {
     "data": {
      "image/png": "[encoded data removed]",
      "text/plain": [
       "<Figure size 432x288 with 1 Axes>"
      ]
     },
     "metadata": {
      "needs_background": "light"
     },
     "output_type": "display_data"
    }
   ],
   "source": [
    "#Проверим, какую меру центральной тенденции будем использовать: среднее или медиану. Посмотрим на распределение\n",
    "#Посмотрим на распределение для 2013B\n",
    "sns.histplot(data = semester_mean.query(\"code_presentation =='2013B'\").last_submission_date, bins = 50)"
   ]
  },
  {
   "cell_type": "code",
   "execution_count": 34,
   "metadata": {},
   "outputs": [
    {
     "data": {
      "text/plain": [
       "NormaltestResult(statistic=460.8453171249272, pvalue=8.486153455039891e-101)"
      ]
     },
     "execution_count": 34,
     "metadata": {},
     "output_type": "execute_result"
    }
   ],
   "source": [
    "ss.normaltest(semester_mean.query(\"code_presentation =='2013B'\").last_submission_date)"
   ]
  },
  {
   "cell_type": "code",
   "execution_count": 35,
   "metadata": {},
   "outputs": [
    {
     "data": {
      "text/plain": [
       "<matplotlib.axes._subplots.AxesSubplot at 0x7f95b104dda0>"
      ]
     },
     "execution_count": 35,
     "metadata": {},
     "output_type": "execute_result"
    },
    {
     "data": {
      "image/png": "[encoded data removed]",
      "text/plain": [
       "<Figure size 432x288 with 1 Axes>"
      ]
     },
     "metadata": {
      "needs_background": "light"
     },
     "output_type": "display_data"
    }
   ],
   "source": [
    "#Повторим для остальных семестров\n",
    "sns.histplot(data = semester_mean.query(\"code_presentation =='2013J'\").last_submission_date, bins = 50)"
   ]
  },
  {
   "cell_type": "code",
   "execution_count": 36,
   "metadata": {},
   "outputs": [
    {
     "data": {
      "text/plain": [
       "NormaltestResult(statistic=25.477741443078415, pvalue=2.9348015512399133e-06)"
      ]
     },
     "execution_count": 36,
     "metadata": {},
     "output_type": "execute_result"
    }
   ],
   "source": [
    "ss.normaltest(semester_mean.query(\"code_presentation =='2013J'\").last_submission_date)"
   ]
  },
  {
   "cell_type": "code",
   "execution_count": 37,
   "metadata": {},
   "outputs": [
    {
     "data": {
      "text/plain": [
       "<matplotlib.axes._subplots.AxesSubplot at 0x7f95b0f3f2b0>"
      ]
     },
     "execution_count": 37,
     "metadata": {},
     "output_type": "execute_result"
    },
    {
     "data": {
      "image/png": "[encoded data removed]",
      "text/plain": [
       "<Figure size 432x288 with 1 Axes>"
      ]
     },
     "metadata": {
      "needs_background": "light"
     },
     "output_type": "display_data"
    }
   ],
   "source": [
    "sns.histplot(data = semester_mean.query(\"code_presentation =='2014B'\").last_submission_date, bins = 50)"
   ]
  },
  {
   "cell_type": "code",
   "execution_count": 38,
   "metadata": {
    "scrolled": true
   },
   "outputs": [
    {
     "data": {
      "text/plain": [
       "NormaltestResult(statistic=598.1212122599628, pvalue=1.3171310960729486e-130)"
      ]
     },
     "execution_count": 38,
     "metadata": {},
     "output_type": "execute_result"
    }
   ],
   "source": [
    "ss.normaltest(semester_mean.query(\"code_presentation =='2014B'\").last_submission_date)"
   ]
  },
  {
   "cell_type": "code",
   "execution_count": 39,
   "metadata": {},
   "outputs": [
    {
     "data": {
      "text/plain": [
       "<matplotlib.axes._subplots.AxesSubplot at 0x7f95b0e33dd8>"
      ]
     },
     "execution_count": 39,
     "metadata": {},
     "output_type": "execute_result"
    },
    {
     "data": {
      "image/png": "[encoded data removed]",
      "text/plain": [
       "<Figure size 432x288 with 1 Axes>"
      ]
     },
     "metadata": {
      "needs_background": "light"
     },
     "output_type": "display_data"
    }
   ],
   "source": [
    "sns.histplot(data = semester_mean.query(\"code_presentation =='2014J'\").last_submission_date, bins = 50)"
   ]
  },
  {
   "cell_type": "code",
   "execution_count": 40,
   "metadata": {},
   "outputs": [
    {
     "data": {
      "text/plain": [
       "NormaltestResult(statistic=2873.9359408601913, pvalue=0.0)"
      ]
     },
     "execution_count": 40,
     "metadata": {},
     "output_type": "execute_result"
    }
   ],
   "source": [
    "ss.normaltest(semester_mean.query(\"code_presentation =='2014J'\").last_submission_date)"
   ]
  },
  {
   "cell_type": "code",
   "execution_count": 41,
   "metadata": {},
   "outputs": [
    {
     "data": {
      "text/html": [
       "<div>\n",
       "<style scoped>\n",
       "    .dataframe tbody tr th:only-of-type {\n",
       "        vertical-align: middle;\n",
       "    }\n",
       "\n",
       "    .dataframe tbody tr th {\n",
       "        vertical-align: top;\n",
       "    }\n",
       "\n",
       "    .dataframe thead th {\n",
       "        text-align: right;\n",
       "    }\n",
       "</style>\n",
       "<table border=\"1\" class=\"dataframe\">\n",
       "  <thead>\n",
       "    <tr style=\"text-align: right;\">\n",
       "      <th></th>\n",
       "      <th>code_presentation</th>\n",
       "      <th>median_days</th>\n",
       "    </tr>\n",
       "  </thead>\n",
       "  <tbody>\n",
       "    <tr>\n",
       "      <th>0</th>\n",
       "      <td>2013B</td>\n",
       "      <td>230</td>\n",
       "    </tr>\n",
       "    <tr>\n",
       "      <th>2</th>\n",
       "      <td>2014B</td>\n",
       "      <td>234</td>\n",
       "    </tr>\n",
       "    <tr>\n",
       "      <th>1</th>\n",
       "      <td>2013J</td>\n",
       "      <td>241</td>\n",
       "    </tr>\n",
       "    <tr>\n",
       "      <th>3</th>\n",
       "      <td>2014J</td>\n",
       "      <td>244</td>\n",
       "    </tr>\n",
       "  </tbody>\n",
       "</table>\n",
       "</div>"
      ],
      "text/plain": [
       "  code_presentation  median_days\n",
       "0             2013B          230\n",
       "2             2014B          234\n",
       "1             2013J          241\n",
       "3             2014J          244"
      ]
     },
     "execution_count": 41,
     "metadata": {},
     "output_type": "execute_result"
    }
   ],
   "source": [
    "#Распределение отличается от нормального, группируем по code_presentation, считаем медиану\n",
    "semester_time = semester_mean.groupby('code_presentation', as_index=False)\\\n",
    ".agg(median_days=('last_submission_date', 'median'))\n",
    "semester_time ['median_days'] =  semester_time.median_days.round(2)\n",
    "semester_time.sort_values('median_days')"
   ]
  },
  {
   "cell_type": "markdown",
   "metadata": {},
   "source": [
    "**Ответ на вопрос 5** Cеместр с самой низкой завершаемостью курсов (0.84) и самыми долгими средними сроками сдачи курсов (медиана 230) = 2013B"
   ]
  },
  {
   "cell_type": "markdown",
   "metadata": {},
   "source": [
    "**Вопрос 6** Часто для качественного анализа аудитории используют подходы, основанные на сегментации. Используя python, построй адаптированные RFM-кластеры студентов, чтобы качественно оценить свою аудиторию. В адаптированной кластеризации можешь выбрать следующие метрики: R - среднее время сдачи одного экзамена, F - завершаемость курсов, M - среднее количество баллов, получаемое за экзамен. Подробно опиши, как ты создавал кластеры. Описание подхода можно найти тут: https://guillaume-martin.github.io/rfm-segmentation-with-python.html "
   ]
  },
  {
   "cell_type": "code",
   "execution_count": 42,
   "metadata": {},
   "outputs": [
    {
     "data": {
      "text/html": [
       "<div>\n",
       "<style scoped>\n",
       "    .dataframe tbody tr th:only-of-type {\n",
       "        vertical-align: middle;\n",
       "    }\n",
       "\n",
       "    .dataframe tbody tr th {\n",
       "        vertical-align: top;\n",
       "    }\n",
       "\n",
       "    .dataframe thead th {\n",
       "        text-align: right;\n",
       "    }\n",
       "</style>\n",
       "<table border=\"1\" class=\"dataframe\">\n",
       "  <thead>\n",
       "    <tr style=\"text-align: right;\">\n",
       "      <th></th>\n",
       "      <th>id_assessment</th>\n",
       "      <th>id_student</th>\n",
       "      <th>date_submitted</th>\n",
       "      <th>is_banked</th>\n",
       "      <th>score</th>\n",
       "      <th>code_module</th>\n",
       "      <th>code_presentation</th>\n",
       "      <th>assessment_type</th>\n",
       "      <th>date</th>\n",
       "      <th>weight</th>\n",
       "      <th>module_presentation_length</th>\n",
       "    </tr>\n",
       "  </thead>\n",
       "  <tbody>\n",
       "    <tr>\n",
       "      <th>0</th>\n",
       "      <td>1752</td>\n",
       "      <td>11391</td>\n",
       "      <td>18</td>\n",
       "      <td>0</td>\n",
       "      <td>78.0</td>\n",
       "      <td>AAA</td>\n",
       "      <td>2013J</td>\n",
       "      <td>TMA</td>\n",
       "      <td>19.0</td>\n",
       "      <td>10.0</td>\n",
       "      <td>268</td>\n",
       "    </tr>\n",
       "    <tr>\n",
       "      <th>1</th>\n",
       "      <td>1752</td>\n",
       "      <td>28400</td>\n",
       "      <td>22</td>\n",
       "      <td>0</td>\n",
       "      <td>70.0</td>\n",
       "      <td>AAA</td>\n",
       "      <td>2013J</td>\n",
       "      <td>TMA</td>\n",
       "      <td>19.0</td>\n",
       "      <td>10.0</td>\n",
       "      <td>268</td>\n",
       "    </tr>\n",
       "    <tr>\n",
       "      <th>2</th>\n",
       "      <td>1752</td>\n",
       "      <td>31604</td>\n",
       "      <td>17</td>\n",
       "      <td>0</td>\n",
       "      <td>72.0</td>\n",
       "      <td>AAA</td>\n",
       "      <td>2013J</td>\n",
       "      <td>TMA</td>\n",
       "      <td>19.0</td>\n",
       "      <td>10.0</td>\n",
       "      <td>268</td>\n",
       "    </tr>\n",
       "    <tr>\n",
       "      <th>3</th>\n",
       "      <td>1752</td>\n",
       "      <td>32885</td>\n",
       "      <td>26</td>\n",
       "      <td>0</td>\n",
       "      <td>69.0</td>\n",
       "      <td>AAA</td>\n",
       "      <td>2013J</td>\n",
       "      <td>TMA</td>\n",
       "      <td>19.0</td>\n",
       "      <td>10.0</td>\n",
       "      <td>268</td>\n",
       "    </tr>\n",
       "    <tr>\n",
       "      <th>4</th>\n",
       "      <td>1752</td>\n",
       "      <td>38053</td>\n",
       "      <td>19</td>\n",
       "      <td>0</td>\n",
       "      <td>79.0</td>\n",
       "      <td>AAA</td>\n",
       "      <td>2013J</td>\n",
       "      <td>TMA</td>\n",
       "      <td>19.0</td>\n",
       "      <td>10.0</td>\n",
       "      <td>268</td>\n",
       "    </tr>\n",
       "  </tbody>\n",
       "</table>\n",
       "</div>"
      ],
      "text/plain": [
       "   id_assessment  id_student  date_submitted  is_banked  score code_module  \\\n",
       "0           1752       11391              18          0   78.0         AAA   \n",
       "1           1752       28400              22          0   70.0         AAA   \n",
       "2           1752       31604              17          0   72.0         AAA   \n",
       "3           1752       32885              26          0   69.0         AAA   \n",
       "4           1752       38053              19          0   79.0         AAA   \n",
       "\n",
       "  code_presentation assessment_type  date  weight  module_presentation_length  \n",
       "0             2013J             TMA  19.0    10.0                         268  \n",
       "1             2013J             TMA  19.0    10.0                         268  \n",
       "2             2013J             TMA  19.0    10.0                         268  \n",
       "3             2013J             TMA  19.0    10.0                         268  \n",
       "4             2013J             TMA  19.0    10.0                         268  "
      ]
     },
     "execution_count": 42,
     "metadata": {},
     "output_type": "execute_result"
    }
   ],
   "source": [
    "#Еще раз посмотрим на данные\n",
    "stud_courses_info.head()"
   ]
  },
  {
   "cell_type": "code",
   "execution_count": 43,
   "metadata": {},
   "outputs": [
    {
     "name": "stdout",
     "output_type": "stream",
     "text": [
      "<class 'pandas.core.frame.DataFrame'>\n",
      "Int64Index: 173912 entries, 0 to 173911\n",
      "Data columns (total 11 columns):\n",
      " #   Column                      Non-Null Count   Dtype  \n",
      "---  ------                      --------------   -----  \n",
      " 0   id_assessment               173912 non-null  int64  \n",
      " 1   id_student                  173912 non-null  int64  \n",
      " 2   date_submitted              173912 non-null  int64  \n",
      " 3   is_banked                   173912 non-null  int64  \n",
      " 4   score                       173739 non-null  float64\n",
      " 5   code_module                 173912 non-null  object \n",
      " 6   code_presentation           173912 non-null  object \n",
      " 7   assessment_type             173912 non-null  object \n",
      " 8   date                        171047 non-null  float64\n",
      " 9   weight                      173912 non-null  float64\n",
      " 10  module_presentation_length  173912 non-null  int64  \n",
      "dtypes: float64(3), int64(5), object(3)\n",
      "memory usage: 15.9+ MB\n"
     ]
    }
   ],
   "source": [
    "stud_courses_info.info()"
   ]
  },
  {
   "cell_type": "code",
   "execution_count": 44,
   "metadata": {},
   "outputs": [
    {
     "data": {
      "text/plain": [
       "<matplotlib.axes._subplots.AxesSubplot at 0x7f95b0d9ae10>"
      ]
     },
     "execution_count": 44,
     "metadata": {},
     "output_type": "execute_result"
    },
    {
     "data": {
      "image/png": "[encoded data removed]",
      "text/plain": [
       "<Figure size 432x288 with 1 Axes>"
      ]
     },
     "metadata": {
      "needs_background": "light"
     },
     "output_type": "display_data"
    }
   ],
   "source": [
    "#Начнем с вычисления RFM\n",
    "#Для вычисления метрики R - average submission time используем колонку date_submitted.\n",
    "#В описании подхода указано, что обычно учитываются данные за год, однако в других источниках предлагается брать данные за 2 г.\n",
    "#Поэтому используем все имеющиеся данные (2013 и 2014 гг.)\n",
    "#Посмотрим на распределение date_submitted, чтобы понимать, что лучше использовать: медиану или среднее арифметическое\n",
    "sns.histplot(data = stud_courses_info.query(\"assessment_type =='Exam'\").date_submitted, bins = 50)\n"
   ]
  },
  {
   "cell_type": "code",
   "execution_count": 45,
   "metadata": {},
   "outputs": [
    {
     "data": {
      "text/plain": [
       "NormaltestResult(statistic=19.662019563549663, pvalue=5.375844528191311e-05)"
      ]
     },
     "execution_count": 45,
     "metadata": {},
     "output_type": "execute_result"
    }
   ],
   "source": [
    "ss.normaltest(stud_courses_info.query(\"assessment_type =='Exam'\").date_submitted)"
   ]
  },
  {
   "cell_type": "code",
   "execution_count": 46,
   "metadata": {},
   "outputs": [],
   "source": [
    "#Очевидно, что распределение отличается от нормального\n",
    "#Поэтому вычислим не среднее, а медиану\n",
    "rfm_df = stud_courses_info.query(\"assessment_type =='Exam'\")\\\n",
    ".groupby(['id_student'], as_index = False).agg(R_avg_subm_time = ('date_submitted','median'))"
   ]
  },
  {
   "cell_type": "code",
   "execution_count": 47,
   "metadata": {},
   "outputs": [
    {
     "name": "stdout",
     "output_type": "stream",
     "text": [
      "<class 'pandas.core.frame.DataFrame'>\n",
      "Int64Index: 4633 entries, 0 to 4632\n",
      "Data columns (total 2 columns):\n",
      " #   Column           Non-Null Count  Dtype  \n",
      "---  ------           --------------  -----  \n",
      " 0   id_student       4633 non-null   int64  \n",
      " 1   R_avg_subm_time  4633 non-null   float64\n",
      "dtypes: float64(1), int64(1)\n",
      "memory usage: 108.6 KB\n"
     ]
    }
   ],
   "source": [
    "rfm_df.info()"
   ]
  },
  {
   "cell_type": "code",
   "execution_count": 48,
   "metadata": {},
   "outputs": [],
   "source": [
    "#Вычислим F - завершаемость (*завершаемость = кол-во успешных экзаменов / кол-во всех попыток сдать экзамен)\n",
    "\n",
    "F = stud_courses_info.query(\"assessment_type == 'Exam'\")\\\n",
    ".groupby(['id_student'], as_index = False)\\\n",
    ".agg(total_exams =('id_assessment','count'), passed_exams = ('score', lambda x: (x >= 40).sum()))\n",
    "#Создадим переменную pass_rate\n",
    "F['F_pass_rate'] = F.passed_exams / F.total_exams"
   ]
  },
  {
   "cell_type": "code",
   "execution_count": 49,
   "metadata": {},
   "outputs": [
    {
     "data": {
      "text/html": [
       "<div>\n",
       "<style scoped>\n",
       "    .dataframe tbody tr th:only-of-type {\n",
       "        vertical-align: middle;\n",
       "    }\n",
       "\n",
       "    .dataframe tbody tr th {\n",
       "        vertical-align: top;\n",
       "    }\n",
       "\n",
       "    .dataframe thead th {\n",
       "        text-align: right;\n",
       "    }\n",
       "</style>\n",
       "<table border=\"1\" class=\"dataframe\">\n",
       "  <thead>\n",
       "    <tr style=\"text-align: right;\">\n",
       "      <th></th>\n",
       "      <th>id_student</th>\n",
       "      <th>R_avg_subm_time</th>\n",
       "      <th>total_exams</th>\n",
       "      <th>passed_exams</th>\n",
       "      <th>F_pass_rate</th>\n",
       "    </tr>\n",
       "  </thead>\n",
       "  <tbody>\n",
       "    <tr>\n",
       "      <th>0</th>\n",
       "      <td>23698</td>\n",
       "      <td>243.0</td>\n",
       "      <td>1</td>\n",
       "      <td>1.0</td>\n",
       "      <td>1.0</td>\n",
       "    </tr>\n",
       "    <tr>\n",
       "      <th>1</th>\n",
       "      <td>24213</td>\n",
       "      <td>236.0</td>\n",
       "      <td>1</td>\n",
       "      <td>1.0</td>\n",
       "      <td>1.0</td>\n",
       "    </tr>\n",
       "    <tr>\n",
       "      <th>2</th>\n",
       "      <td>27116</td>\n",
       "      <td>243.0</td>\n",
       "      <td>1</td>\n",
       "      <td>1.0</td>\n",
       "      <td>1.0</td>\n",
       "    </tr>\n",
       "    <tr>\n",
       "      <th>3</th>\n",
       "      <td>28046</td>\n",
       "      <td>237.0</td>\n",
       "      <td>1</td>\n",
       "      <td>1.0</td>\n",
       "      <td>1.0</td>\n",
       "    </tr>\n",
       "    <tr>\n",
       "      <th>4</th>\n",
       "      <td>28787</td>\n",
       "      <td>243.0</td>\n",
       "      <td>1</td>\n",
       "      <td>1.0</td>\n",
       "      <td>1.0</td>\n",
       "    </tr>\n",
       "  </tbody>\n",
       "</table>\n",
       "</div>"
      ],
      "text/plain": [
       "   id_student  R_avg_subm_time  total_exams  passed_exams  F_pass_rate\n",
       "0       23698            243.0            1           1.0          1.0\n",
       "1       24213            236.0            1           1.0          1.0\n",
       "2       27116            243.0            1           1.0          1.0\n",
       "3       28046            237.0            1           1.0          1.0\n",
       "4       28787            243.0            1           1.0          1.0"
      ]
     },
     "execution_count": 49,
     "metadata": {},
     "output_type": "execute_result"
    }
   ],
   "source": [
    "rfm_df = pd.merge (rfm_df, F, on = 'id_student', how = 'left')\n",
    "rfm_df.head()"
   ]
  },
  {
   "cell_type": "code",
   "execution_count": 50,
   "metadata": {},
   "outputs": [
    {
     "data": {
      "text/plain": [
       "array([1. , 0. , 0.5])"
      ]
     },
     "execution_count": 50,
     "metadata": {},
     "output_type": "execute_result"
    }
   ],
   "source": [
    "#Посмотрим, сколько уникальных F_pass_rate получилось\n",
    "rfm_df.F_pass_rate.unique()\n",
    "#Вариативность низкая, ни один студент не сдавал более двух экзаменов"
   ]
  },
  {
   "cell_type": "code",
   "execution_count": 51,
   "metadata": {},
   "outputs": [
    {
     "data": {
      "text/plain": [
       "<matplotlib.axes._subplots.AxesSubplot at 0x7f95b0d9a908>"
      ]
     },
     "execution_count": 51,
     "metadata": {},
     "output_type": "execute_result"
    },
    {
     "data": {
      "image/png": "[encoded data removed]",
      "text/plain": [
       "<Figure size 432x288 with 1 Axes>"
      ]
     },
     "metadata": {
      "needs_background": "light"
     },
     "output_type": "display_data"
    }
   ],
   "source": [
    "#Вычислим M - среднее количество баллов, получаемое за экзамен\n",
    "#Начнем с проверки на соответствие нормальному распределению\n",
    "sns.histplot(data = stud_courses_info.query(\"assessment_type =='Exam'\").score, bins = 50)"
   ]
  },
  {
   "cell_type": "code",
   "execution_count": 52,
   "metadata": {},
   "outputs": [
    {
     "data": {
      "text/plain": [
       "NormaltestResult(statistic=368.1959372467101, pvalue=1.1149826186864879e-80)"
      ]
     },
     "execution_count": 52,
     "metadata": {},
     "output_type": "execute_result"
    }
   ],
   "source": [
    "ss.normaltest(stud_courses_info.query(\"assessment_type =='Exam'\").score)"
   ]
  },
  {
   "cell_type": "code",
   "execution_count": 53,
   "metadata": {},
   "outputs": [],
   "source": [
    "#Вычислим медиану\n",
    "M = stud_courses_info.query(\"assessment_type =='Exam'\")\\\n",
    ".groupby(['id_student'], as_index = False).agg(M_avg_score=('score', 'median'))"
   ]
  },
  {
   "cell_type": "code",
   "execution_count": 54,
   "metadata": {},
   "outputs": [
    {
     "data": {
      "text/html": [
       "<div>\n",
       "<style scoped>\n",
       "    .dataframe tbody tr th:only-of-type {\n",
       "        vertical-align: middle;\n",
       "    }\n",
       "\n",
       "    .dataframe tbody tr th {\n",
       "        vertical-align: top;\n",
       "    }\n",
       "\n",
       "    .dataframe thead th {\n",
       "        text-align: right;\n",
       "    }\n",
       "</style>\n",
       "<table border=\"1\" class=\"dataframe\">\n",
       "  <thead>\n",
       "    <tr style=\"text-align: right;\">\n",
       "      <th></th>\n",
       "      <th>id_student</th>\n",
       "      <th>R_avg_subm_time</th>\n",
       "      <th>total_exams</th>\n",
       "      <th>passed_exams</th>\n",
       "      <th>F_pass_rate</th>\n",
       "      <th>M_avg_score</th>\n",
       "    </tr>\n",
       "  </thead>\n",
       "  <tbody>\n",
       "    <tr>\n",
       "      <th>0</th>\n",
       "      <td>23698</td>\n",
       "      <td>243.0</td>\n",
       "      <td>1</td>\n",
       "      <td>1.0</td>\n",
       "      <td>1.0</td>\n",
       "      <td>80.0</td>\n",
       "    </tr>\n",
       "    <tr>\n",
       "      <th>1</th>\n",
       "      <td>24213</td>\n",
       "      <td>236.0</td>\n",
       "      <td>1</td>\n",
       "      <td>1.0</td>\n",
       "      <td>1.0</td>\n",
       "      <td>58.0</td>\n",
       "    </tr>\n",
       "    <tr>\n",
       "      <th>2</th>\n",
       "      <td>27116</td>\n",
       "      <td>243.0</td>\n",
       "      <td>1</td>\n",
       "      <td>1.0</td>\n",
       "      <td>1.0</td>\n",
       "      <td>96.0</td>\n",
       "    </tr>\n",
       "    <tr>\n",
       "      <th>3</th>\n",
       "      <td>28046</td>\n",
       "      <td>237.0</td>\n",
       "      <td>1</td>\n",
       "      <td>1.0</td>\n",
       "      <td>1.0</td>\n",
       "      <td>40.0</td>\n",
       "    </tr>\n",
       "    <tr>\n",
       "      <th>4</th>\n",
       "      <td>28787</td>\n",
       "      <td>243.0</td>\n",
       "      <td>1</td>\n",
       "      <td>1.0</td>\n",
       "      <td>1.0</td>\n",
       "      <td>44.0</td>\n",
       "    </tr>\n",
       "  </tbody>\n",
       "</table>\n",
       "</div>"
      ],
      "text/plain": [
       "   id_student  R_avg_subm_time  total_exams  passed_exams  F_pass_rate  \\\n",
       "0       23698            243.0            1           1.0          1.0   \n",
       "1       24213            236.0            1           1.0          1.0   \n",
       "2       27116            243.0            1           1.0          1.0   \n",
       "3       28046            237.0            1           1.0          1.0   \n",
       "4       28787            243.0            1           1.0          1.0   \n",
       "\n",
       "   M_avg_score  \n",
       "0         80.0  \n",
       "1         58.0  \n",
       "2         96.0  \n",
       "3         40.0  \n",
       "4         44.0  "
      ]
     },
     "execution_count": 54,
     "metadata": {},
     "output_type": "execute_result"
    }
   ],
   "source": [
    "rfm_df = pd.merge (rfm_df, M, on = 'id_student', how = 'left')\n",
    "rfm_df.head()"
   ]
  },
  {
   "cell_type": "code",
   "execution_count": 55,
   "metadata": {},
   "outputs": [],
   "source": [
    "#Удалим лишние колонки\n",
    "rfm_df = rfm_df.drop(columns = ['total_exams', 'passed_exams'])"
   ]
  },
  {
   "cell_type": "code",
   "execution_count": 56,
   "metadata": {},
   "outputs": [
    {
     "data": {
      "text/plain": [
       "{'R_avg_subm_time': {0.2: 231.0, 0.4: 237.0, 0.6: 242.0, 0.8: 243.5},\n",
       " 'F_pass_rate': {0.2: 1.0, 0.4: 1.0, 0.6: 1.0, 0.8: 1.0},\n",
       " 'M_avg_score': {0.2: 46.200000000000045, 0.4: 60.0, 0.6: 72.0, 0.8: 84.0}}"
      ]
     },
     "execution_count": 56,
     "metadata": {},
     "output_type": "execute_result"
    }
   ],
   "source": [
    "#Шаг 2. Вычислим квантили\n",
    "quantiles = rfm_df[['R_avg_subm_time', 'F_pass_rate', 'M_avg_score']].quantile([.2, .4, .6, .8]).to_dict()\n",
    "quantiles\n",
    "#Для F квантили ничего не дают, поскольку вариантивность чрезвычайно низкая.\n",
    "#Каждый студент в имеющемся датасете сдавал максимум 2 экзамена.\n",
    "#Поэтому чтобы не потерять информацию, присвоим F значения в трехбальной системе\n",
    "#Чтобы не запутаться, приведем F к шкале от 1 до 5(0 = 1 балл, 0.5 = 3 балла, 1 балл = 5 баллов)"
   ]
  },
  {
   "cell_type": "code",
   "execution_count": 57,
   "metadata": {},
   "outputs": [],
   "source": [
    "#Напишем функцию для присвоения рангов. Показатель Recency - реверсивный.\n",
    "def r_score(x):\n",
    "    if x <= quantiles['R_avg_subm_time'][.2]:\n",
    "        return 5\n",
    "    elif x <= quantiles['R_avg_subm_time'][.4]:\n",
    "        return 4\n",
    "    elif x <= quantiles['R_avg_subm_time'][.6]:\n",
    "        return 3\n",
    "    elif x <= quantiles['R_avg_subm_time'][.8]:\n",
    "        return 2\n",
    "    else:\n",
    "        return 1\n",
    "\n",
    "def f_score(x):\n",
    "    if x == 1:\n",
    "        return 5\n",
    "    elif x == 0.5:\n",
    "        return 3\n",
    "    else:\n",
    "        return 1   \n",
    "    \n",
    "def m_score(x):\n",
    "    if x <= quantiles['M_avg_score'][.2]:\n",
    "        return 1\n",
    "    elif x <= quantiles['M_avg_score'][.4]:\n",
    "        return 2\n",
    "    elif x <= quantiles['M_avg_score'][.6]:\n",
    "        return 3\n",
    "    elif x <= quantiles['M_avg_score'][.8]:\n",
    "        return 4\n",
    "    else:\n",
    "        return 5    "
   ]
  },
  {
   "cell_type": "code",
   "execution_count": 58,
   "metadata": {},
   "outputs": [
    {
     "data": {
      "text/html": [
       "<div>\n",
       "<style scoped>\n",
       "    .dataframe tbody tr th:only-of-type {\n",
       "        vertical-align: middle;\n",
       "    }\n",
       "\n",
       "    .dataframe tbody tr th {\n",
       "        vertical-align: top;\n",
       "    }\n",
       "\n",
       "    .dataframe thead th {\n",
       "        text-align: right;\n",
       "    }\n",
       "</style>\n",
       "<table border=\"1\" class=\"dataframe\">\n",
       "  <thead>\n",
       "    <tr style=\"text-align: right;\">\n",
       "      <th></th>\n",
       "      <th>id_student</th>\n",
       "      <th>R_avg_subm_time</th>\n",
       "      <th>F_pass_rate</th>\n",
       "      <th>M_avg_score</th>\n",
       "      <th>R</th>\n",
       "      <th>F</th>\n",
       "      <th>M</th>\n",
       "    </tr>\n",
       "  </thead>\n",
       "  <tbody>\n",
       "    <tr>\n",
       "      <th>0</th>\n",
       "      <td>23698</td>\n",
       "      <td>243.0</td>\n",
       "      <td>1.0</td>\n",
       "      <td>80.0</td>\n",
       "      <td>2</td>\n",
       "      <td>5</td>\n",
       "      <td>4</td>\n",
       "    </tr>\n",
       "    <tr>\n",
       "      <th>1</th>\n",
       "      <td>24213</td>\n",
       "      <td>236.0</td>\n",
       "      <td>1.0</td>\n",
       "      <td>58.0</td>\n",
       "      <td>4</td>\n",
       "      <td>5</td>\n",
       "      <td>2</td>\n",
       "    </tr>\n",
       "    <tr>\n",
       "      <th>2</th>\n",
       "      <td>27116</td>\n",
       "      <td>243.0</td>\n",
       "      <td>1.0</td>\n",
       "      <td>96.0</td>\n",
       "      <td>2</td>\n",
       "      <td>5</td>\n",
       "      <td>5</td>\n",
       "    </tr>\n",
       "    <tr>\n",
       "      <th>3</th>\n",
       "      <td>28046</td>\n",
       "      <td>237.0</td>\n",
       "      <td>1.0</td>\n",
       "      <td>40.0</td>\n",
       "      <td>4</td>\n",
       "      <td>5</td>\n",
       "      <td>1</td>\n",
       "    </tr>\n",
       "    <tr>\n",
       "      <th>4</th>\n",
       "      <td>28787</td>\n",
       "      <td>243.0</td>\n",
       "      <td>1.0</td>\n",
       "      <td>44.0</td>\n",
       "      <td>2</td>\n",
       "      <td>5</td>\n",
       "      <td>1</td>\n",
       "    </tr>\n",
       "  </tbody>\n",
       "</table>\n",
       "</div>"
      ],
      "text/plain": [
       "   id_student  R_avg_subm_time  F_pass_rate  M_avg_score  R  F  M\n",
       "0       23698            243.0          1.0         80.0  2  5  4\n",
       "1       24213            236.0          1.0         58.0  4  5  2\n",
       "2       27116            243.0          1.0         96.0  2  5  5\n",
       "3       28046            237.0          1.0         40.0  4  5  1\n",
       "4       28787            243.0          1.0         44.0  2  5  1"
      ]
     },
     "execution_count": 58,
     "metadata": {},
     "output_type": "execute_result"
    }
   ],
   "source": [
    "#Ранжируем показатели\n",
    "rfm_df['R'] = rfm_df['R_avg_subm_time'].apply(lambda x: r_score(x))\n",
    "rfm_df['F'] = rfm_df['F_pass_rate'].apply(lambda x: f_score(x))\n",
    "rfm_df['M'] = rfm_df['M_avg_score'].apply(lambda x: m_score(x))\n",
    "#Посмотрим, что получилось\n",
    "rfm_df.head()"
   ]
  },
  {
   "cell_type": "code",
   "execution_count": 59,
   "metadata": {},
   "outputs": [
    {
     "data": {
      "text/html": [
       "<div>\n",
       "<style scoped>\n",
       "    .dataframe tbody tr th:only-of-type {\n",
       "        vertical-align: middle;\n",
       "    }\n",
       "\n",
       "    .dataframe tbody tr th {\n",
       "        vertical-align: top;\n",
       "    }\n",
       "\n",
       "    .dataframe thead th {\n",
       "        text-align: right;\n",
       "    }\n",
       "</style>\n",
       "<table border=\"1\" class=\"dataframe\">\n",
       "  <thead>\n",
       "    <tr style=\"text-align: right;\">\n",
       "      <th></th>\n",
       "      <th>id_student</th>\n",
       "      <th>R_avg_subm_time</th>\n",
       "      <th>F_pass_rate</th>\n",
       "      <th>M_avg_score</th>\n",
       "      <th>R</th>\n",
       "      <th>F</th>\n",
       "      <th>M</th>\n",
       "      <th>RFM</th>\n",
       "    </tr>\n",
       "  </thead>\n",
       "  <tbody>\n",
       "    <tr>\n",
       "      <th>0</th>\n",
       "      <td>23698</td>\n",
       "      <td>243.0</td>\n",
       "      <td>1.0</td>\n",
       "      <td>80.0</td>\n",
       "      <td>2</td>\n",
       "      <td>5</td>\n",
       "      <td>4</td>\n",
       "      <td>254</td>\n",
       "    </tr>\n",
       "    <tr>\n",
       "      <th>1</th>\n",
       "      <td>24213</td>\n",
       "      <td>236.0</td>\n",
       "      <td>1.0</td>\n",
       "      <td>58.0</td>\n",
       "      <td>4</td>\n",
       "      <td>5</td>\n",
       "      <td>2</td>\n",
       "      <td>452</td>\n",
       "    </tr>\n",
       "    <tr>\n",
       "      <th>2</th>\n",
       "      <td>27116</td>\n",
       "      <td>243.0</td>\n",
       "      <td>1.0</td>\n",
       "      <td>96.0</td>\n",
       "      <td>2</td>\n",
       "      <td>5</td>\n",
       "      <td>5</td>\n",
       "      <td>255</td>\n",
       "    </tr>\n",
       "    <tr>\n",
       "      <th>3</th>\n",
       "      <td>28046</td>\n",
       "      <td>237.0</td>\n",
       "      <td>1.0</td>\n",
       "      <td>40.0</td>\n",
       "      <td>4</td>\n",
       "      <td>5</td>\n",
       "      <td>1</td>\n",
       "      <td>451</td>\n",
       "    </tr>\n",
       "    <tr>\n",
       "      <th>4</th>\n",
       "      <td>28787</td>\n",
       "      <td>243.0</td>\n",
       "      <td>1.0</td>\n",
       "      <td>44.0</td>\n",
       "      <td>2</td>\n",
       "      <td>5</td>\n",
       "      <td>1</td>\n",
       "      <td>251</td>\n",
       "    </tr>\n",
       "  </tbody>\n",
       "</table>\n",
       "</div>"
      ],
      "text/plain": [
       "   id_student  R_avg_subm_time  F_pass_rate  M_avg_score  R  F  M  RFM\n",
       "0       23698            243.0          1.0         80.0  2  5  4  254\n",
       "1       24213            236.0          1.0         58.0  4  5  2  452\n",
       "2       27116            243.0          1.0         96.0  2  5  5  255\n",
       "3       28046            237.0          1.0         40.0  4  5  1  451\n",
       "4       28787            243.0          1.0         44.0  2  5  1  251"
      ]
     },
     "execution_count": 59,
     "metadata": {},
     "output_type": "execute_result"
    }
   ],
   "source": [
    "#Соединим RFM score\n",
    "rfm_df['RFM'] = rfm_df['R'].map(str) + rfm_df['F'].map(str) + rfm_df['M'].map(str)\n",
    "rfm_df.head()"
   ]
  },
  {
   "cell_type": "code",
   "execution_count": 60,
   "metadata": {},
   "outputs": [
    {
     "data": {
      "text/plain": [
       "155    266\n",
       "454    250\n",
       "452    241\n",
       "453    239\n",
       "552    234\n",
       "455    218\n",
       "354    210\n",
       "352    209\n",
       "252    182\n",
       "353    180\n",
       "554    167\n",
       "152    162\n",
       "553    160\n",
       "555    152\n",
       "153    151\n",
       "355    147\n",
       "254    134\n",
       "154    134\n",
       "511    133\n",
       "255    128\n",
       "253    127\n",
       "111    117\n",
       "411    113\n",
       "551    108\n",
       "311     93\n",
       "151     86\n",
       "211     80\n",
       "451     75\n",
       "351     65\n",
       "251     44\n",
       "332      8\n",
       "431      6\n",
       "331      5\n",
       "232      3\n",
       "432      2\n",
       "532      2\n",
       "531      1\n",
       "231      1\n",
       "Name: RFM, dtype: int64"
      ]
     },
     "execution_count": 60,
     "metadata": {},
     "output_type": "execute_result"
    }
   ],
   "source": [
    "#Посмотрим, какие RFM получились\n",
    "#R - среднее время сдачи одного экзамена, F - завершаемость курсов, M - среднее количество баллов\n",
    "rfm_df.RFM.value_counts()"
   ]
  },
  {
   "cell_type": "code",
   "execution_count": 61,
   "metadata": {},
   "outputs": [
    {
     "data": {
      "text/plain": [
       "38"
      ]
     },
     "execution_count": 61,
     "metadata": {},
     "output_type": "execute_result"
    }
   ],
   "source": [
    "rfm_df.RFM.nunique()"
   ]
  },
  {
   "cell_type": "markdown",
   "metadata": {},
   "source": [
    "Сформируем кластеры. За основу взят материал из https://connectif.ai/en/blog/what-are-rfm-scores-and-how-to-calculate-them/ , адапитированный под данные. \n",
    "\n",
    "| Student Segment | RFM | Behavior |\n",
    "| --- | --- | --- |\n",
    "| Best students | 555, 554, 454, 455 | Сдают экзамены быстро, на высокий балл |\n",
    "| Moderately slow learners | 355, 354 | Завершают все экзамены, но выходят на экзамены достаточно долго. Достаточно высокий балл |\n",
    "| Successful with low score | 553, 551, 552, 532, 531, 452, 451, 453, 432, 353, 352, 351, 341 | Быстро выходят на экзамен. Завершают большинство курсов, но обычно имеют средние или низкие баллы |\n",
    "| Fast and uneffective | 511, 411, 311 | Быстро выходят на экзамены, но сдают на низкий балл, не завершают курсы \n",
    "| Slow learners | 155, 154 | Завершают все экзамены, но выходят на экзамены очень долго. Достаточно высокий балл |\n",
    "| At risk | 255, 254, 253, 252, 153, 152 | Долго выходят на экзамен, сдают все курсы, но на низкий балл |\n",
    "| Low Productive | 332, 231, 251, 232, 211, 331 | Достаточно высокое время сдачи, сдают экзамены на низкий балл |\n",
    "| Unsuccessful | 111, 151 | Не сдают экзамены на проходной балл, долго выходят на экзамен |"
   ]
  },
  {
   "cell_type": "code",
   "execution_count": 62,
   "metadata": {},
   "outputs": [],
   "source": [
    "#Напишем функцию для присвоения названий кластеров\n",
    "def clusters(row):\n",
    "    RFM = row['RFM']\n",
    "    if RFM in ['555', '554', '454', '455']:\n",
    "        return 'Best students'\n",
    "    elif RFM in ['355', '354']:\n",
    "        return 'Moderately slow learners'\n",
    "    elif RFM in ['553', '551', '552', '532', '531', '452', '451', '453', '432', '353', '352', '351', '341']:\n",
    "        return 'Successful with low score'\n",
    "    elif RFM in ['511', '411', '311']:\n",
    "        return 'Fast and uneffective'\n",
    "    elif RFM in ['155', '154']:\n",
    "        return 'Slow learners'\n",
    "    elif RFM in ['255', '254', '253', '252', '153', '152']:\n",
    "        return 'At Risk'\n",
    "    elif RFM in ['332', '231', '251', '232', '211', '331']:\n",
    "        return 'Low Productive'\n",
    "    elif RFM in ['111', '151']:\n",
    "        return 'Unsuccessful'"
   ]
  },
  {
   "cell_type": "code",
   "execution_count": 63,
   "metadata": {},
   "outputs": [],
   "source": [
    "rfm_df['Clusters'] = rfm_df.apply(clusters, axis=1)"
   ]
  },
  {
   "cell_type": "code",
   "execution_count": 64,
   "metadata": {},
   "outputs": [
    {
     "data": {
      "text/html": [
       "<div>\n",
       "<style scoped>\n",
       "    .dataframe tbody tr th:only-of-type {\n",
       "        vertical-align: middle;\n",
       "    }\n",
       "\n",
       "    .dataframe tbody tr th {\n",
       "        vertical-align: top;\n",
       "    }\n",
       "\n",
       "    .dataframe thead th {\n",
       "        text-align: right;\n",
       "    }\n",
       "</style>\n",
       "<table border=\"1\" class=\"dataframe\">\n",
       "  <thead>\n",
       "    <tr style=\"text-align: right;\">\n",
       "      <th></th>\n",
       "      <th>id_student</th>\n",
       "      <th>R_avg_subm_time</th>\n",
       "      <th>F_pass_rate</th>\n",
       "      <th>M_avg_score</th>\n",
       "      <th>R</th>\n",
       "      <th>F</th>\n",
       "      <th>M</th>\n",
       "      <th>RFM</th>\n",
       "      <th>Clusters</th>\n",
       "    </tr>\n",
       "  </thead>\n",
       "  <tbody>\n",
       "    <tr>\n",
       "      <th>0</th>\n",
       "      <td>23698</td>\n",
       "      <td>243.0</td>\n",
       "      <td>1.0</td>\n",
       "      <td>80.0</td>\n",
       "      <td>2</td>\n",
       "      <td>5</td>\n",
       "      <td>4</td>\n",
       "      <td>254</td>\n",
       "      <td>At Risk</td>\n",
       "    </tr>\n",
       "    <tr>\n",
       "      <th>1</th>\n",
       "      <td>24213</td>\n",
       "      <td>236.0</td>\n",
       "      <td>1.0</td>\n",
       "      <td>58.0</td>\n",
       "      <td>4</td>\n",
       "      <td>5</td>\n",
       "      <td>2</td>\n",
       "      <td>452</td>\n",
       "      <td>Successful with low score</td>\n",
       "    </tr>\n",
       "    <tr>\n",
       "      <th>2</th>\n",
       "      <td>27116</td>\n",
       "      <td>243.0</td>\n",
       "      <td>1.0</td>\n",
       "      <td>96.0</td>\n",
       "      <td>2</td>\n",
       "      <td>5</td>\n",
       "      <td>5</td>\n",
       "      <td>255</td>\n",
       "      <td>At Risk</td>\n",
       "    </tr>\n",
       "    <tr>\n",
       "      <th>3</th>\n",
       "      <td>28046</td>\n",
       "      <td>237.0</td>\n",
       "      <td>1.0</td>\n",
       "      <td>40.0</td>\n",
       "      <td>4</td>\n",
       "      <td>5</td>\n",
       "      <td>1</td>\n",
       "      <td>451</td>\n",
       "      <td>Successful with low score</td>\n",
       "    </tr>\n",
       "    <tr>\n",
       "      <th>4</th>\n",
       "      <td>28787</td>\n",
       "      <td>243.0</td>\n",
       "      <td>1.0</td>\n",
       "      <td>44.0</td>\n",
       "      <td>2</td>\n",
       "      <td>5</td>\n",
       "      <td>1</td>\n",
       "      <td>251</td>\n",
       "      <td>Low Productive</td>\n",
       "    </tr>\n",
       "  </tbody>\n",
       "</table>\n",
       "</div>"
      ],
      "text/plain": [
       "   id_student  R_avg_subm_time  F_pass_rate  M_avg_score  R  F  M  RFM  \\\n",
       "0       23698            243.0          1.0         80.0  2  5  4  254   \n",
       "1       24213            236.0          1.0         58.0  4  5  2  452   \n",
       "2       27116            243.0          1.0         96.0  2  5  5  255   \n",
       "3       28046            237.0          1.0         40.0  4  5  1  451   \n",
       "4       28787            243.0          1.0         44.0  2  5  1  251   \n",
       "\n",
       "                    Clusters  \n",
       "0                    At Risk  \n",
       "1  Successful with low score  \n",
       "2                    At Risk  \n",
       "3  Successful with low score  \n",
       "4             Low Productive  "
      ]
     },
     "execution_count": 64,
     "metadata": {},
     "output_type": "execute_result"
    }
   ],
   "source": [
    "rfm_df.head()"
   ]
  },
  {
   "cell_type": "code",
   "execution_count": 67,
   "metadata": {},
   "outputs": [
    {
     "data": {
      "image/png": "[encoded data removed]",
      "text/plain": [
       "<Figure size 432x288 with 1 Axes>"
      ]
     },
     "metadata": {
      "needs_background": "light"
     },
     "output_type": "display_data"
    }
   ],
   "source": [
    "#Визуализируем число студентов в каждом сегменте\n",
    "\n",
    "clusters_counts = rfm_df['Clusters'].value_counts().sort_values(ascending=True)\n",
    "\n",
    "fig, ax = plt.subplots()\n",
    "\n",
    "bars = ax.barh(range(len(clusters_counts)),\n",
    "              clusters_counts,\n",
    "              color='silver')\n",
    "ax.set_frame_on(False)\n",
    "ax.tick_params(left=False,\n",
    "               bottom=False,\n",
    "               labelbottom=False)\n",
    "ax.set_yticks(range(len(clusters_counts)))\n",
    "ax.set_yticklabels(clusters_counts.index)\n",
    "\n",
    "for i, bar in enumerate(bars):\n",
    "        value = bar.get_width()\n",
    "        if clusters_counts.index[i] == 'Best students':\n",
    "            bar.set_color('firebrick')\n",
    "        ax.text(value,\n",
    "                bar.get_y() + bar.get_height()/2,\n",
    "                '{:,} ({:}%)'.format(int(value),\n",
    "                                   int(value*100/clusters_counts.sum())),\n",
    "                va='center',\n",
    "                ha='left'\n",
    "               )\n",
    "\n",
    "plt.show()\n"
   ]
  },
  {
   "cell_type": "markdown",
   "metadata": {},
   "source": [
    "Видим, что наибольшее число студентов сдают экзамены успешно и быстро, но на средние баллы. На втором месте по численности - студенты, которые долго выходят на экзамен и сдают курсы на низкий балл, что требует внимания. Успешные студенты - на третьем месте по численности."
   ]
  }
 ],
 "metadata": {
  "kernelspec": {
   "display_name": "Python 3 (ipykernel)",
   "language": "python",
   "name": "python3"
  },
  "language_info": {
   "codemirror_mode": {
    "name": "ipython",
    "version": 3
   },
   "file_extension": ".py",
   "mimetype": "text/x-python",
   "name": "python",
   "nbconvert_exporter": "python",
   "pygments_lexer": "ipython3",
   "version": "3.11.5"
  }
 },
 "nbformat": 4,
 "nbformat_minor": 4
}
