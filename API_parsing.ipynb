{
 "cells": [
  {
   "cell_type": "markdown",
   "id": "4d9ac476-e40a-400f-8e99-8359b0d59990",
   "metadata": {},
   "source": [
    "**Задача**\n",
    "\n",
    "Необходимо написать скрипт AppData, который будет принимать на вход **ID** приложения из iTunes и заносить результаты в **sqlite3 базу данных apps.db** в таблицу **search (app_id, word, position, date)**; в каждой строке должно быть написано написано **id приложения**, запрашиваемое **слово из названия**, **позиция приложения id в выдаче iTunes** по этому слову и **дата запуска скрипта**. \n",
    "\n",
    "\n",
    "ложения, которое мы хотим исследовать (например, 860011430). У этого приложения есть название из N слов (в данном случае \"Ghost Lens AR Fun Video Editor\").\n"
   ]
  },
  {
   "cell_type": "code",
   "execution_count": 4,
   "id": "d457919d-7c3c-4cc7-8bd9-31e9bd5d1f2f",
   "metadata": {},
   "outputs": [],
   "source": [
    "import requests as r\n",
    "import sqlite3\n",
    "from datetime import date\n",
    "import re"
   ]
  },
  {
   "cell_type": "code",
   "execution_count": 20,
   "id": "ed090e0d-8280-4665-9430-4e36b8743d27",
   "metadata": {},
   "outputs": [],
   "source": [
    "def AppData (id):\n",
    "    url = f'https://itunes.apple.com/lookup?id={id}' #добавляем id в запрос\n",
    "    response = r.get(url)\n",
    "    if response.ok:  #проверка на отсутствие ошибки\n",
    "        result=response.json()\n",
    "    else:\n",
    "        print (\"Execution failed (search by ID)\") #добавила конкретизацию шага, на котором произошла ошибка\n",
    "    if 'results' in result and len(result['results']) != 0: #проверяем, что получили не пустой results\n",
    "        app_name=result['results'][0]['trackName'] #получаем название приложения\n",
    "    else:\n",
    "        print(f'Error, data on app ID {id} not found') #проверяем, что данные получены, если нет - сообщение об ошибке\n",
    "    words = re.findall(r'\\w+', app_name)  #находим слова в названии приложения, знаки препинания не записываем\n",
    "    current_date = date.today().isoformat() #получаем дату и приводим к формату \"yyyy-mm-dd\"\n",
    "    con = sqlite3.connect(\"apps.db\") #Устанавливаем соединение с базой\n",
    "    cur = con.cursor()\n",
    "    #Создадим таблицу, если ее нет. Если мы уверены, что таблица существует, этот шаг можно убрать\n",
    "    cur.execute('''\n",
    "    CREATE TABLE IF NOT EXISTS search (\n",
    "        app_id INTEGER,\n",
    "        word TEXT,\n",
    "        position INTEGER,\n",
    "        date TEXT\n",
    "    )\n",
    "    ''')\n",
    "    for word in words: #итерируемся по каждому слову из списка слов\n",
    "        prep_and_articles=('in','the','a','and','by','as','at','with','of','for','on','into','to')\n",
    "        #кортеж из слов, по которым поиск не информативен, на случай, если они будут в названии\n",
    "        if word.lower() not in prep_and_articles: #приводим к нижнему регистру, чтобы соотнести со словом в кортеже\n",
    "            word_url = f'https://itunes.apple.com/search?term={word}&entity=software&limit=200'#по умолчанию 50 страниц, мы доводим до максимума - 200\n",
    "            #Допустим, что ищем по приложениям, если нужно искать по всему контенту, entity можно убрать\n",
    "            response_search = r.get(word_url)\n",
    "            if response_search.ok:  #проверка на отсутствие ошибки\n",
    "                result_search=response_search.json()\n",
    "            else:\n",
    "                print (\"Execution failed (search by words)\") #добавила конкретизацию шага, на котором произошла ошибка\n",
    "            request=word #создадим переменную со словом из запроса\n",
    "            position = None #Инициализируем переменную\n",
    "            if 'results' in result_search and len(result_search['results']) != 0: #поиск позиции осуществляем, если результат не пустой\n",
    "                for index, element in enumerate (result_search['results']): #итерируемся по results\n",
    "                    if element['trackId'] == id: #Ищем соответствие по ID приложения\n",
    "                        position = index + 1 #т.к. нумерация начинается с 0\n",
    "                        break\n",
    "            else:\n",
    "                print(\"Empty search result\")\n",
    "            obtained_data=[id, word, position, current_date]\n",
    "            cur.execute(\"INSERT INTO search VALUES(?,?,?,?)\", obtained_data) #добавляем значения в таблицу\n",
    "            print(f'Inserted: {obtained_data}')\n",
    "            if position is None:\n",
    "                print(f'App not found for word: {word}') #Если позиция не найдена, выводим предупреждение, но None в базу все равно записываем\n",
    "    con.commit()\n",
    "    con.close()"
   ]
  }
 ],
 "metadata": {
  "kernelspec": {
   "display_name": "Python 3 (ipykernel)",
   "language": "python",
   "name": "python3"
  },
  "language_info": {
   "codemirror_mode": {
    "name": "ipython",
    "version": 3
   },
   "file_extension": ".py",
   "mimetype": "text/x-python",
   "name": "python",
   "nbconvert_exporter": "python",
   "pygments_lexer": "ipython3",
   "version": "3.12.4"
  }
 },
 "nbformat": 4,
 "nbformat_minor": 5
}
