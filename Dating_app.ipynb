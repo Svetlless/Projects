{
 "cells": [
  {
   "cell_type": "markdown",
   "metadata": {},
   "source": [
    "**Кейс "Приложение знакомств"**\n",
    "\n",
    "Вы работаете аналитиком в приложении для онлайн-знакомств. Механика приложения следующая: пользователи видят в приложении анкеты друг друга и могут ставить друг другу лайки или дизлайки. Если пользователи поставили друг другу лайк – это называется мэтч, и у пользователей появляется возможность познакомиться.\n",
    "\n",
    "Команда приложения разработала новый алгоритм для поиска наиболее подходящих анкет. Для проверки работы алгоритма был проведен АБ-тест. Все пользователи были разделены на две группы. Пользователи в группе с номером 0 пользовались приложением со старым алгоритмом. Все пользователи в группе 1 пользовались приложением с новым алгоритмом для поиска анкет.\n",
    "\n",
    "Ваша задача – оценить, правда ли, что новый алгоритм улучшил качество сервиса. Для этого нужно выбрать метрики, которые отвечают за качество сервиса, и статистически сравнить эти метрики в двух группах.\n",
    "\n",
    "В данных находится выгрузка логов взаимодействия пользователей друг с другом. Для каждой пары пользователей указано, из какой они группы АБ-теста и случился ли у них мэтч.\n",
    "\n",
    "Результат вашей работы – аналитическое заключение с ответом на вопрос, стоит ли включать новую систему поиска анкет на всех пользователей.\n",
    "\n",
    "NB! Не стоит использовать интерактивные графики в итоговом файле – они имеют смысл только в динамических отчётах вроде веб-страницы.\n"
   ]
  },
  {
   "cell_type": "code",
   "execution_count": 1,
   "metadata": {},
   "outputs": [],
   "source": [
    "import pandas as pd\n",
    "import scipy.stats as stats\n",
    "from scipy.stats import bootstrap\n",
    "import pingouin as pg\n",
    "import seaborn as sns\n",
    "import matplotlib.pyplot as plt\n",
    "import numpy as np"
   ]
  },
  {
   "cell_type": "code",
   "execution_count": 2,
   "metadata": {},
   "outputs": [],
   "source": [
    "df = pd.read_csv('dating_data.csv')"
   ]
  },
  {
   "cell_type": "code",
   "execution_count": 3,
   "metadata": {},
   "outputs": [
    {
     "name": "stdout",
     "output_type": "stream",
     "text": [
      "<class 'pandas.core.frame.DataFrame'>\n",
      "RangeIndex: 14514 entries, 0 to 14513\n",
      "Data columns (total 4 columns):\n",
      " #   Column     Non-Null Count  Dtype\n",
      "---  ------     --------------  -----\n",
      " 0   user_id_1  14514 non-null  int64\n",
      " 1   user_id_2  14514 non-null  int64\n",
      " 2   group      14514 non-null  int64\n",
      " 3   is_match   14514 non-null  int64\n",
      "dtypes: int64(4)\n",
      "memory usage: 453.7 KB\n"
     ]
    }
   ],
   "source": [
    "df.info()"
   ]
  },
  {
   "cell_type": "code",
   "execution_count": 4,
   "metadata": {},
   "outputs": [
    {
     "name": "stderr",
     "output_type": "stream",
     "text": [
      "/opt/tljh/user/lib/python3.7/site-packages/outdated/utils.py:18: OutdatedCacheFailedWarning: Failed to use cache while checking for outdated package.\n",
      "Set the environment variable OUTDATED_RAISE_EXCEPTION=1 for a full traceback.\n",
      "Set the environment variable OUTDATED_IGNORE=1 to disable these warnings.\n",
      "  **kwargs\n",
      "/opt/tljh/user/lib/python3.7/site-packages/outdated/utils.py:18: OutdatedPackageWarning: The package pingouin is out of date. Your version is 0.4.0, the latest is 0.5.4.\n",
      "Set the environment variable OUTDATED_IGNORE=1 to disable these warnings.\n",
      "  **kwargs\n"
     ]
    },
    {
     "data": {
      "text/html": [
       "<div>\n",
       "<style scoped>\n",
       "    .dataframe tbody tr th:only-of-type {\n",
       "        vertical-align: middle;\n",
       "    }\n",
       "\n",
       "    .dataframe tbody tr th {\n",
       "        vertical-align: top;\n",
       "    }\n",
       "\n",
       "    .dataframe thead th {\n",
       "        text-align: right;\n",
       "    }\n",
       "</style>\n",
       "<table border=\"1\" class=\"dataframe\">\n",
       "  <thead>\n",
       "    <tr style=\"text-align: right;\">\n",
       "      <th></th>\n",
       "      <th>user_id_1</th>\n",
       "      <th>user_id_2</th>\n",
       "      <th>group</th>\n",
       "      <th>is_match</th>\n",
       "    </tr>\n",
       "  </thead>\n",
       "  <tbody>\n",
       "    <tr>\n",
       "      <th>0</th>\n",
       "      <td>79</td>\n",
       "      <td>91</td>\n",
       "      <td>1</td>\n",
       "      <td>1</td>\n",
       "    </tr>\n",
       "    <tr>\n",
       "      <th>1</th>\n",
       "      <td>716</td>\n",
       "      <td>353</td>\n",
       "      <td>1</td>\n",
       "      <td>1</td>\n",
       "    </tr>\n",
       "    <tr>\n",
       "      <th>2</th>\n",
       "      <td>423</td>\n",
       "      <td>677</td>\n",
       "      <td>0</td>\n",
       "      <td>0</td>\n",
       "    </tr>\n",
       "    <tr>\n",
       "      <th>3</th>\n",
       "      <td>658</td>\n",
       "      <td>165</td>\n",
       "      <td>1</td>\n",
       "      <td>1</td>\n",
       "    </tr>\n",
       "    <tr>\n",
       "      <th>4</th>\n",
       "      <td>969</td>\n",
       "      <td>155</td>\n",
       "      <td>0</td>\n",
       "      <td>1</td>\n",
       "    </tr>\n",
       "  </tbody>\n",
       "</table>\n",
       "</div>"
      ],
      "text/plain": [
       "   user_id_1  user_id_2  group  is_match\n",
       "0         79         91      1         1\n",
       "1        716        353      1         1\n",
       "2        423        677      0         0\n",
       "3        658        165      1         1\n",
       "4        969        155      0         1"
      ]
     },
     "execution_count": 4,
     "metadata": {},
     "output_type": "execute_result"
    }
   ],
   "source": [
    "df.head()"
   ]
  },
  {
   "cell_type": "code",
   "execution_count": 5,
   "metadata": {},
   "outputs": [
    {
     "data": {
      "text/plain": [
       "user_id_1    int64\n",
       "user_id_2    int64\n",
       "group        int64\n",
       "is_match     int64\n",
       "dtype: object"
      ]
     },
     "execution_count": 5,
     "metadata": {},
     "output_type": "execute_result"
    }
   ],
   "source": [
    "df.dtypes"
   ]
  },
  {
   "cell_type": "code",
   "execution_count": 6,
   "metadata": {},
   "outputs": [
    {
     "name": "stderr",
     "output_type": "stream",
     "text": [
      "/opt/tljh/user/lib/python3.7/site-packages/outdated/utils.py:18: OutdatedCacheFailedWarning: Failed to use cache while checking for outdated package.\n",
      "Set the environment variable OUTDATED_RAISE_EXCEPTION=1 for a full traceback.\n",
      "Set the environment variable OUTDATED_IGNORE=1 to disable these warnings.\n",
      "  **kwargs\n",
      "/opt/tljh/user/lib/python3.7/site-packages/outdated/utils.py:18: OutdatedPackageWarning: The package outdated is out of date. Your version is 0.2.1, the latest is 0.2.2.\n",
      "Set the environment variable OUTDATED_IGNORE=1 to disable these warnings.\n",
      "  **kwargs\n"
     ]
    },
    {
     "data": {
      "image/png": "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\n",
      "text/plain": [
       "<Figure size 432x288 with 1 Axes>"
      ]
     },
     "metadata": {
      "needs_background": "light"
     },
     "output_type": "display_data"
    }
   ],
   "source": [
    "#Посмотрим на график\n",
    "sns.countplot(data=df, x='is_match', hue='group')\n",
    "plt.title(\"Число мэтчей по группе\")\n",
    "plt.grid(True) \n",
    "#Кажется, что сырые данные не очень информативны"
   ]
  },
  {
   "cell_type": "markdown",
   "metadata": {},
   "source": [
    "Видим, что данные представляют собой пары пользователей. Попробуем вычислить соотношение мэтчей к показам. Для этого сгруппируем по пользователю 1 (предполагаем, что для вычисления метрики мы можем отталкиваться от пользователя 1: если пользователь 1 и пользователь 2 поставили друг другу лайки, в поле будет стоять 1, если нет - 0). Вычислим общее число символов в переменной is_match и сумму is_match, которая будет отображать мэтчи"
   ]
  },
  {
   "cell_type": "code",
   "execution_count": 7,
   "metadata": {},
   "outputs": [],
   "source": [
    "df_rate = df.groupby(['user_id_1', 'group'], as_index = False).agg(total_views = ('is_match', 'count'), matches = ('is_match', 'sum'))"
   ]
  },
  {
   "cell_type": "code",
   "execution_count": 8,
   "metadata": {},
   "outputs": [
    {
     "data": {
      "text/html": [
       "<div>\n",
       "<style scoped>\n",
       "    .dataframe tbody tr th:only-of-type {\n",
       "        vertical-align: middle;\n",
       "    }\n",
       "\n",
       "    .dataframe tbody tr th {\n",
       "        vertical-align: top;\n",
       "    }\n",
       "\n",
       "    .dataframe thead th {\n",
       "        text-align: right;\n",
       "    }\n",
       "</style>\n",
       "<table border=\"1\" class=\"dataframe\">\n",
       "  <thead>\n",
       "    <tr style=\"text-align: right;\">\n",
       "      <th></th>\n",
       "      <th>user_id_1</th>\n",
       "      <th>group</th>\n",
       "      <th>total_views</th>\n",
       "      <th>matches</th>\n",
       "      <th>match_rate</th>\n",
       "    </tr>\n",
       "  </thead>\n",
       "  <tbody>\n",
       "    <tr>\n",
       "      <th>0</th>\n",
       "      <td>1</td>\n",
       "      <td>1</td>\n",
       "      <td>24</td>\n",
       "      <td>11</td>\n",
       "      <td>0.458333</td>\n",
       "    </tr>\n",
       "    <tr>\n",
       "      <th>1</th>\n",
       "      <td>2</td>\n",
       "      <td>1</td>\n",
       "      <td>16</td>\n",
       "      <td>7</td>\n",
       "      <td>0.437500</td>\n",
       "    </tr>\n",
       "    <tr>\n",
       "      <th>2</th>\n",
       "      <td>3</td>\n",
       "      <td>1</td>\n",
       "      <td>16</td>\n",
       "      <td>5</td>\n",
       "      <td>0.312500</td>\n",
       "    </tr>\n",
       "    <tr>\n",
       "      <th>3</th>\n",
       "      <td>4</td>\n",
       "      <td>0</td>\n",
       "      <td>9</td>\n",
       "      <td>2</td>\n",
       "      <td>0.222222</td>\n",
       "    </tr>\n",
       "    <tr>\n",
       "      <th>4</th>\n",
       "      <td>5</td>\n",
       "      <td>1</td>\n",
       "      <td>22</td>\n",
       "      <td>13</td>\n",
       "      <td>0.590909</td>\n",
       "    </tr>\n",
       "    <tr>\n",
       "      <th>...</th>\n",
       "      <td>...</td>\n",
       "      <td>...</td>\n",
       "      <td>...</td>\n",
       "      <td>...</td>\n",
       "      <td>...</td>\n",
       "    </tr>\n",
       "    <tr>\n",
       "      <th>995</th>\n",
       "      <td>996</td>\n",
       "      <td>0</td>\n",
       "      <td>8</td>\n",
       "      <td>1</td>\n",
       "      <td>0.125000</td>\n",
       "    </tr>\n",
       "    <tr>\n",
       "      <th>996</th>\n",
       "      <td>997</td>\n",
       "      <td>0</td>\n",
       "      <td>12</td>\n",
       "      <td>1</td>\n",
       "      <td>0.083333</td>\n",
       "    </tr>\n",
       "    <tr>\n",
       "      <th>997</th>\n",
       "      <td>998</td>\n",
       "      <td>1</td>\n",
       "      <td>18</td>\n",
       "      <td>10</td>\n",
       "      <td>0.555556</td>\n",
       "    </tr>\n",
       "    <tr>\n",
       "      <th>998</th>\n",
       "      <td>999</td>\n",
       "      <td>0</td>\n",
       "      <td>7</td>\n",
       "      <td>2</td>\n",
       "      <td>0.285714</td>\n",
       "    </tr>\n",
       "    <tr>\n",
       "      <th>999</th>\n",
       "      <td>1000</td>\n",
       "      <td>1</td>\n",
       "      <td>23</td>\n",
       "      <td>12</td>\n",
       "      <td>0.521739</td>\n",
       "    </tr>\n",
       "  </tbody>\n",
       "</table>\n",
       "<p>1000 rows × 5 columns</p>\n",
       "</div>"
      ],
      "text/plain": [
       "     user_id_1  group  total_views  matches  match_rate\n",
       "0            1      1           24       11    0.458333\n",
       "1            2      1           16        7    0.437500\n",
       "2            3      1           16        5    0.312500\n",
       "3            4      0            9        2    0.222222\n",
       "4            5      1           22       13    0.590909\n",
       "..         ...    ...          ...      ...         ...\n",
       "995        996      0            8        1    0.125000\n",
       "996        997      0           12        1    0.083333\n",
       "997        998      1           18       10    0.555556\n",
       "998        999      0            7        2    0.285714\n",
       "999       1000      1           23       12    0.521739\n",
       "\n",
       "[1000 rows x 5 columns]"
      ]
     },
     "execution_count": 8,
     "metadata": {},
     "output_type": "execute_result"
    }
   ],
   "source": [
    "df_rate['match_rate'] = df_rate.matches / df_rate.total_views\n",
    "df_rate"
   ]
  },
  {
   "cell_type": "markdown",
   "metadata": {},
   "source": [
    "Теперь мы имеем числовой показатель и можем его сравнить между группами. Вначале проверим распределение и посмотрим на описательные"
   ]
  },
  {
   "cell_type": "code",
   "execution_count": 9,
   "metadata": {},
   "outputs": [
    {
     "data": {
      "text/html": [
       "<div>\n",
       "<style scoped>\n",
       "    .dataframe tbody tr th:only-of-type {\n",
       "        vertical-align: middle;\n",
       "    }\n",
       "\n",
       "    .dataframe tbody tr th {\n",
       "        vertical-align: top;\n",
       "    }\n",
       "\n",
       "    .dataframe thead th {\n",
       "        text-align: right;\n",
       "    }\n",
       "</style>\n",
       "<table border=\"1\" class=\"dataframe\">\n",
       "  <thead>\n",
       "    <tr style=\"text-align: right;\">\n",
       "      <th></th>\n",
       "      <th>W</th>\n",
       "      <th>pval</th>\n",
       "      <th>normal</th>\n",
       "    </tr>\n",
       "  </thead>\n",
       "  <tbody>\n",
       "    <tr>\n",
       "      <th>1</th>\n",
       "      <td>0.273892</td>\n",
       "      <td>0.872017</td>\n",
       "      <td>True</td>\n",
       "    </tr>\n",
       "    <tr>\n",
       "      <th>0</th>\n",
       "      <td>24.051422</td>\n",
       "      <td>0.000006</td>\n",
       "      <td>False</td>\n",
       "    </tr>\n",
       "  </tbody>\n",
       "</table>\n",
       "</div>"
      ],
      "text/plain": [
       "           W      pval  normal\n",
       "1   0.273892  0.872017    True\n",
       "0  24.051422  0.000006   False"
      ]
     },
     "execution_count": 9,
     "metadata": {},
     "output_type": "execute_result"
    }
   ],
   "source": [
    "pg.normality(data=df_rate, dv=\"match_rate\", group=\"group\", method=\"normaltest\")"
   ]
  },
  {
   "cell_type": "code",
   "execution_count": 10,
   "metadata": {},
   "outputs": [
    {
     "data": {
      "text/plain": [
       "<matplotlib.axes._subplots.AxesSubplot at 0x7fa3c703f630>"
      ]
     },
     "execution_count": 10,
     "metadata": {},
     "output_type": "execute_result"
    },
    {
     "data": {
      "image/png": "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\n",
      "text/plain": [
       "<Figure size 432x288 with 1 Axes>"
      ]
     },
     "metadata": {
      "needs_background": "light"
     },
     "output_type": "display_data"
    }
   ],
   "source": [
    "sns.histplot(data = df_rate, x =\"match_rate\", hue = 'group', bins = 50, kde=True)"
   ]
  },
  {
   "cell_type": "markdown",
   "metadata": {},
   "source": [
    "Видим, что в контрольной группе распределение отличается от нормального, поскольку очень много значений, равных 0. Посмотрим подробнее на данные наблюдения"
   ]
  },
  {
   "cell_type": "code",
   "execution_count": 11,
   "metadata": {},
   "outputs": [
    {
     "data": {
      "text/html": [
       "<div>\n",
       "<style scoped>\n",
       "    .dataframe tbody tr th:only-of-type {\n",
       "        vertical-align: middle;\n",
       "    }\n",
       "\n",
       "    .dataframe tbody tr th {\n",
       "        vertical-align: top;\n",
       "    }\n",
       "\n",
       "    .dataframe thead th {\n",
       "        text-align: right;\n",
       "    }\n",
       "</style>\n",
       "<table border=\"1\" class=\"dataframe\">\n",
       "  <thead>\n",
       "    <tr style=\"text-align: right;\">\n",
       "      <th></th>\n",
       "      <th>user_id_1</th>\n",
       "      <th>group</th>\n",
       "      <th>total_views</th>\n",
       "      <th>matches</th>\n",
       "      <th>match_rate</th>\n",
       "    </tr>\n",
       "  </thead>\n",
       "  <tbody>\n",
       "    <tr>\n",
       "      <th>538</th>\n",
       "      <td>539</td>\n",
       "      <td>1</td>\n",
       "      <td>16</td>\n",
       "      <td>0</td>\n",
       "      <td>0.0</td>\n",
       "    </tr>\n",
       "  </tbody>\n",
       "</table>\n",
       "</div>"
      ],
      "text/plain": [
       "     user_id_1  group  total_views  matches  match_rate\n",
       "538        539      1           16        0         0.0"
      ]
     },
     "execution_count": 11,
     "metadata": {},
     "output_type": "execute_result"
    }
   ],
   "source": [
    "df_rate.query(\"group == 1 & match_rate == 0\")"
   ]
  },
  {
   "cell_type": "code",
   "execution_count": 12,
   "metadata": {},
   "outputs": [
    {
     "data": {
      "text/html": [
       "<div>\n",
       "<style scoped>\n",
       "    .dataframe tbody tr th:only-of-type {\n",
       "        vertical-align: middle;\n",
       "    }\n",
       "\n",
       "    .dataframe tbody tr th {\n",
       "        vertical-align: top;\n",
       "    }\n",
       "\n",
       "    .dataframe thead th {\n",
       "        text-align: right;\n",
       "    }\n",
       "</style>\n",
       "<table border=\"1\" class=\"dataframe\">\n",
       "  <thead>\n",
       "    <tr style=\"text-align: right;\">\n",
       "      <th></th>\n",
       "      <th>user_id_1</th>\n",
       "      <th>group</th>\n",
       "      <th>total_views</th>\n",
       "      <th>matches</th>\n",
       "      <th>match_rate</th>\n",
       "    </tr>\n",
       "  </thead>\n",
       "  <tbody>\n",
       "    <tr>\n",
       "      <th>13</th>\n",
       "      <td>14</td>\n",
       "      <td>0</td>\n",
       "      <td>8</td>\n",
       "      <td>0</td>\n",
       "      <td>0.0</td>\n",
       "    </tr>\n",
       "    <tr>\n",
       "      <th>18</th>\n",
       "      <td>19</td>\n",
       "      <td>0</td>\n",
       "      <td>7</td>\n",
       "      <td>0</td>\n",
       "      <td>0.0</td>\n",
       "    </tr>\n",
       "    <tr>\n",
       "      <th>19</th>\n",
       "      <td>20</td>\n",
       "      <td>0</td>\n",
       "      <td>7</td>\n",
       "      <td>0</td>\n",
       "      <td>0.0</td>\n",
       "    </tr>\n",
       "    <tr>\n",
       "      <th>29</th>\n",
       "      <td>30</td>\n",
       "      <td>0</td>\n",
       "      <td>2</td>\n",
       "      <td>0</td>\n",
       "      <td>0.0</td>\n",
       "    </tr>\n",
       "    <tr>\n",
       "      <th>35</th>\n",
       "      <td>36</td>\n",
       "      <td>0</td>\n",
       "      <td>5</td>\n",
       "      <td>0</td>\n",
       "      <td>0.0</td>\n",
       "    </tr>\n",
       "    <tr>\n",
       "      <th>...</th>\n",
       "      <td>...</td>\n",
       "      <td>...</td>\n",
       "      <td>...</td>\n",
       "      <td>...</td>\n",
       "      <td>...</td>\n",
       "    </tr>\n",
       "    <tr>\n",
       "      <th>920</th>\n",
       "      <td>921</td>\n",
       "      <td>0</td>\n",
       "      <td>3</td>\n",
       "      <td>0</td>\n",
       "      <td>0.0</td>\n",
       "    </tr>\n",
       "    <tr>\n",
       "      <th>943</th>\n",
       "      <td>944</td>\n",
       "      <td>0</td>\n",
       "      <td>13</td>\n",
       "      <td>0</td>\n",
       "      <td>0.0</td>\n",
       "    </tr>\n",
       "    <tr>\n",
       "      <th>949</th>\n",
       "      <td>950</td>\n",
       "      <td>0</td>\n",
       "      <td>11</td>\n",
       "      <td>0</td>\n",
       "      <td>0.0</td>\n",
       "    </tr>\n",
       "    <tr>\n",
       "      <th>964</th>\n",
       "      <td>965</td>\n",
       "      <td>0</td>\n",
       "      <td>5</td>\n",
       "      <td>0</td>\n",
       "      <td>0.0</td>\n",
       "    </tr>\n",
       "    <tr>\n",
       "      <th>983</th>\n",
       "      <td>984</td>\n",
       "      <td>0</td>\n",
       "      <td>5</td>\n",
       "      <td>0</td>\n",
       "      <td>0.0</td>\n",
       "    </tr>\n",
       "  </tbody>\n",
       "</table>\n",
       "<p>79 rows × 5 columns</p>\n",
       "</div>"
      ],
      "text/plain": [
       "     user_id_1  group  total_views  matches  match_rate\n",
       "13          14      0            8        0         0.0\n",
       "18          19      0            7        0         0.0\n",
       "19          20      0            7        0         0.0\n",
       "29          30      0            2        0         0.0\n",
       "35          36      0            5        0         0.0\n",
       "..         ...    ...          ...      ...         ...\n",
       "920        921      0            3        0         0.0\n",
       "943        944      0           13        0         0.0\n",
       "949        950      0           11        0         0.0\n",
       "964        965      0            5        0         0.0\n",
       "983        984      0            5        0         0.0\n",
       "\n",
       "[79 rows x 5 columns]"
      ]
     },
     "execution_count": 12,
     "metadata": {},
     "output_type": "execute_result"
    }
   ],
   "source": [
    "df_rate.query(\"group == 0 & match_rate == 0\")"
   ]
  },
  {
   "cell_type": "code",
   "execution_count": 13,
   "metadata": {},
   "outputs": [
    {
     "data": {
      "text/html": [
       "<div>\n",
       "<style scoped>\n",
       "    .dataframe tbody tr th:only-of-type {\n",
       "        vertical-align: middle;\n",
       "    }\n",
       "\n",
       "    .dataframe tbody tr th {\n",
       "        vertical-align: top;\n",
       "    }\n",
       "\n",
       "    .dataframe thead th {\n",
       "        text-align: right;\n",
       "    }\n",
       "</style>\n",
       "<table border=\"1\" class=\"dataframe\">\n",
       "  <thead>\n",
       "    <tr style=\"text-align: right;\">\n",
       "      <th></th>\n",
       "      <th>user_id_1</th>\n",
       "      <th>user_id_2</th>\n",
       "      <th>group</th>\n",
       "      <th>is_match</th>\n",
       "    </tr>\n",
       "  </thead>\n",
       "  <tbody>\n",
       "    <tr>\n",
       "      <th>1670</th>\n",
       "      <td>14</td>\n",
       "      <td>632</td>\n",
       "      <td>0</td>\n",
       "      <td>0</td>\n",
       "    </tr>\n",
       "    <tr>\n",
       "      <th>3195</th>\n",
       "      <td>14</td>\n",
       "      <td>511</td>\n",
       "      <td>0</td>\n",
       "      <td>0</td>\n",
       "    </tr>\n",
       "    <tr>\n",
       "      <th>3952</th>\n",
       "      <td>14</td>\n",
       "      <td>761</td>\n",
       "      <td>0</td>\n",
       "      <td>0</td>\n",
       "    </tr>\n",
       "    <tr>\n",
       "      <th>4442</th>\n",
       "      <td>14</td>\n",
       "      <td>446</td>\n",
       "      <td>0</td>\n",
       "      <td>0</td>\n",
       "    </tr>\n",
       "    <tr>\n",
       "      <th>5703</th>\n",
       "      <td>14</td>\n",
       "      <td>223</td>\n",
       "      <td>0</td>\n",
       "      <td>0</td>\n",
       "    </tr>\n",
       "    <tr>\n",
       "      <th>9312</th>\n",
       "      <td>14</td>\n",
       "      <td>246</td>\n",
       "      <td>0</td>\n",
       "      <td>0</td>\n",
       "    </tr>\n",
       "    <tr>\n",
       "      <th>11005</th>\n",
       "      <td>14</td>\n",
       "      <td>378</td>\n",
       "      <td>0</td>\n",
       "      <td>0</td>\n",
       "    </tr>\n",
       "    <tr>\n",
       "      <th>11826</th>\n",
       "      <td>14</td>\n",
       "      <td>875</td>\n",
       "      <td>0</td>\n",
       "      <td>0</td>\n",
       "    </tr>\n",
       "  </tbody>\n",
       "</table>\n",
       "</div>"
      ],
      "text/plain": [
       "       user_id_1  user_id_2  group  is_match\n",
       "1670          14        632      0         0\n",
       "3195          14        511      0         0\n",
       "3952          14        761      0         0\n",
       "4442          14        446      0         0\n",
       "5703          14        223      0         0\n",
       "9312          14        246      0         0\n",
       "11005         14        378      0         0\n",
       "11826         14        875      0         0"
      ]
     },
     "execution_count": 13,
     "metadata": {},
     "output_type": "execute_result"
    }
   ],
   "source": [
    "df.query(\"user_id_1 == 14\")"
   ]
  },
  {
   "cell_type": "markdown",
   "metadata": {},
   "source": [
    "Действительно, в контрольной группе 79 наблюдений с 0 мэтчей, в контрольной группе - 1. Кажется, что если мы удалим их как выбросы, это вызовет искажение результатов, т.к. отсутствие мэтчей у большого числа участников контрольной группы может быть связано с некорректной работой рекоммендаций. "
   ]
  },
  {
   "cell_type": "code",
   "execution_count": 14,
   "metadata": {},
   "outputs": [
    {
     "data": {
      "text/plain": [
       "group  0      0.000000\n",
       "       1      1.000000\n",
       "count  0    501.000000\n",
       "       1    499.000000\n",
       "mean   0      0.194099\n",
       "       1      0.402345\n",
       "std    0      0.134302\n",
       "       1      0.114106\n",
       "min    0      0.000000\n",
       "       1      0.000000\n",
       "25%    0      0.100000\n",
       "       1      0.333333\n",
       "50%    0      0.181818\n",
       "       1      0.400000\n",
       "75%    0      0.272727\n",
       "       1      0.476190\n",
       "max    0      0.666667\n",
       "       1      0.722222\n",
       "dtype: float64"
      ]
     },
     "execution_count": 14,
     "metadata": {},
     "output_type": "execute_result"
    }
   ],
   "source": [
    "#Посмотрим на описательные\n",
    "df_rate.groupby('group', as_index = False).match_rate.describe()"
   ]
  },
  {
   "cell_type": "code",
   "execution_count": 15,
   "metadata": {},
   "outputs": [
    {
     "data": {
      "text/plain": [
       "0.2985076777055582"
      ]
     },
     "execution_count": 15,
     "metadata": {},
     "output_type": "execute_result"
    }
   ],
   "source": [
    "#Посмотрим на эксцесс и асимметрию в группе с распределением, отличающимся от нормального\n",
    "stats.kurtosis(df_rate.query(\"group == 0\").match_rate, bias=False)"
   ]
  },
  {
   "cell_type": "code",
   "execution_count": 16,
   "metadata": {},
   "outputs": [
    {
     "data": {
      "text/plain": [
       "0.5432052323221455"
      ]
     },
     "execution_count": 16,
     "metadata": {},
     "output_type": "execute_result"
    }
   ],
   "source": [
    "stats.skew(df_rate.query(\"group == 0\").match_rate, bias=False)"
   ]
  },
  {
   "cell_type": "markdown",
   "metadata": {},
   "source": [
    "Получаем, что в контрольной группе распределение отличается от нормального ввиду большого числа нулевых значений. При этом, асимметрия и эксцесс находятся в диапазоне от -1 до 1, при допустимом диапазоне -2 до 2 ((George & Mallery, 2010), https://imaging.mrc-cbu.cam.ac.uk/statswiki/FAQ/Simon ).  Кроме того, среднее и медиана приблизительно равны. Однако, SD для нормального распределения должно быть меньше половины среднего (Mishra et al., 2019). В нашем же случае M=0.19, SD = 0.13. Следовательно, не будем рисковать, и используем бутстрэп для сравнения медиан"
   ]
  },
  {
   "cell_type": "code",
   "execution_count": 24,
   "metadata": {},
   "outputs": [],
   "source": [
    "control = df_rate.query(\"group == 0\").match_rate.values\n",
    "test = df_rate.query(\"group == 1\").match_rate.values"
   ]
  },
  {
   "cell_type": "code",
   "execution_count": 33,
   "metadata": {},
   "outputs": [
    {
     "data": {
      "text/plain": [
       "BootstrapResult(confidence_interval=ConfidenceInterval(low=0.16666666666666666, high=0.2), standard_error=0.010987509573202813)"
      ]
     },
     "execution_count": 33,
     "metadata": {},
     "output_type": "execute_result"
    }
   ],
   "source": [
    "bootstrap((control, ), np.median, method = 'percentile')"
   ]
  },
  {
   "cell_type": "code",
   "execution_count": 34,
   "metadata": {},
   "outputs": [
    {
     "data": {
      "text/plain": [
       "BootstrapResult(confidence_interval=ConfidenceInterval(low=0.4, high=0.4117647058823529), standard_error=0.005570516468382163)"
      ]
     },
     "execution_count": 34,
     "metadata": {},
     "output_type": "execute_result"
    }
   ],
   "source": [
    "bootstrap((test, ), np.median, method = 'percentile')"
   ]
  },
  {
   "cell_type": "markdown",
   "metadata": {},
   "source": [
    "Доверительные интервалы не пересекаются, значит, можем говорить о том, что медианы значимо различаются"
   ]
  },
  {
   "cell_type": "code",
   "execution_count": 35,
   "metadata": {},
   "outputs": [
    {
     "data": {
      "text/plain": [
       "<matplotlib.axes._subplots.AxesSubplot at 0x7fa3c6c45908>"
      ]
     },
     "execution_count": 35,
     "metadata": {},
     "output_type": "execute_result"
    },
    {
     "data": {
      "image/png": "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\n",
      "text/plain": [
       "<Figure size 432x288 with 1 Axes>"
      ]
     },
     "metadata": {
      "needs_background": "light"
     },
     "output_type": "display_data"
    }
   ],
   "source": [
    "sns.boxplot(x='group', y='match_rate', data=df_rate)\n"
   ]
  },
  {
   "cell_type": "markdown",
   "metadata": {},
   "source": [
    "Таким образом, внедрение новой системы рекомендаций привело к значимому более чем двукратному увеличению доли мэтчей (120%), что свидетельствует в пользу ее включения для всех пользователей."
   ]
  },
  {
   "cell_type": "code",
   "execution_count": null,
   "metadata": {},
   "outputs": [],
   "source": []
  }
 ],
 "metadata": {
  "kernelspec": {
   "display_name": "Python 3 (ipykernel)",
   "language": "python",
   "name": "python3"
  },
  "language_info": {
   "codemirror_mode": {
    "name": "ipython",
    "version": 3
   },
   "file_extension": ".py",
   "mimetype": "text/x-python",
   "name": "python",
   "nbconvert_exporter": "python",
   "pygments_lexer": "ipython3",
   "version": "3.11.5"
  }
 },
 "nbformat": 4,
 "nbformat_minor": 4
}
